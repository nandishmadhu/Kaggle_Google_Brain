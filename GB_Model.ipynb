{
  "nbformat": 4,
  "nbformat_minor": 0,
  "metadata": {
    "colab": {
      "name": "GB_Model.ipynb",
      "provenance": [],
      "collapsed_sections": [],
      "authorship_tag": "ABX9TyPaJp2O6GuNWlxLFeucBlG5",
      "include_colab_link": true
    },
    "kernelspec": {
      "name": "python3",
      "display_name": "Python 3"
    },
    "language_info": {
      "name": "python"
    }
  },
  "cells": [
    {
      "cell_type": "markdown",
      "metadata": {
        "id": "view-in-github",
        "colab_type": "text"
      },
      "source": [
        "<a href=\"https://colab.research.google.com/github/nandishmadhu/Kaggle_Google_Brain/blob/validation_branch/GB_Model.ipynb\" target=\"_parent\"><img src=\"https://colab.research.google.com/assets/colab-badge.svg\" alt=\"Open In Colab\"/></a>"
      ]
    },
    {
      "cell_type": "code",
      "metadata": {
        "id": "IflAMydgq3Xm"
      },
      "source": [
        ""
      ],
      "execution_count": null,
      "outputs": []
    },
    {
      "cell_type": "code",
      "metadata": {
        "id": "n3ix8UZBmi2k"
      },
      "source": [
        "from google.colab import drive\n",
        "import os\n",
        "import pandas as pd\n"
      ],
      "execution_count": 1,
      "outputs": []
    },
    {
      "cell_type": "code",
      "metadata": {
        "colab": {
          "base_uri": "https://localhost:8080/"
        },
        "id": "9l4EAi1knOpE",
        "outputId": "cf52cd5c-a5bc-452b-ab2a-3228154bdec7"
      },
      "source": [
        "#drive.flush_and_unmount()\n",
        "drive.mount('/content/drive')"
      ],
      "execution_count": 2,
      "outputs": [
        {
          "output_type": "stream",
          "name": "stdout",
          "text": [
            "Mounted at /content/drive\n"
          ]
        }
      ]
    },
    {
      "cell_type": "code",
      "metadata": {
        "colab": {
          "base_uri": "https://localhost:8080/"
        },
        "id": "JW9L4kX7m5-A",
        "outputId": "a57efb13-7a68-4227-e81c-a9948b6f8c99"
      },
      "source": [
        "ls '/content/drive/MyDrive/Kaggle_Google_Brain/Data/'"
      ],
      "execution_count": 3,
      "outputs": [
        {
          "output_type": "stream",
          "name": "stdout",
          "text": [
            "sample_submission.csv  test.csv  test_updated.csv  train.csv  train_updated.csv\n"
          ]
        }
      ]
    },
    {
      "cell_type": "code",
      "metadata": {
        "id": "HGj0-nKqhkk5"
      },
      "source": [
        "#Importing the files that were created during EDA/Feature Engineering"
      ],
      "execution_count": 13,
      "outputs": []
    },
    {
      "cell_type": "code",
      "metadata": {
        "id": "iFwv8KQZnKMX"
      },
      "source": [
        "train=pd.read_csv('/content/drive/MyDrive/Kaggle_Google_Brain/Data/train_updated.csv')"
      ],
      "execution_count": 9,
      "outputs": []
    },
    {
      "cell_type": "code",
      "metadata": {
        "id": "GoltfrPYWK0Z"
      },
      "source": [
        "test=pd.read_csv('/content/drive/MyDrive/Kaggle_Google_Brain/Data/test_updated.csv')"
      ],
      "execution_count": 10,
      "outputs": []
    },
    {
      "cell_type": "code",
      "metadata": {
        "colab": {
          "base_uri": "https://localhost:8080/",
          "height": 419
        },
        "id": "lcllyMyVnfFH",
        "outputId": "3d8312dc-dd52-460a-f842-d10c3ac84785"
      },
      "source": [
        "train"
      ],
      "execution_count": 11,
      "outputs": [
        {
          "output_type": "execute_result",
          "data": {
            "text/html": [
              "<div>\n",
              "<style scoped>\n",
              "    .dataframe tbody tr th:only-of-type {\n",
              "        vertical-align: middle;\n",
              "    }\n",
              "\n",
              "    .dataframe tbody tr th {\n",
              "        vertical-align: top;\n",
              "    }\n",
              "\n",
              "    .dataframe thead th {\n",
              "        text-align: right;\n",
              "    }\n",
              "</style>\n",
              "<table border=\"1\" class=\"dataframe\">\n",
              "  <thead>\n",
              "    <tr style=\"text-align: right;\">\n",
              "      <th></th>\n",
              "      <th>id</th>\n",
              "      <th>breath_id</th>\n",
              "      <th>R</th>\n",
              "      <th>C</th>\n",
              "      <th>time_step</th>\n",
              "      <th>u_in</th>\n",
              "      <th>u_out</th>\n",
              "      <th>time_delta</th>\n",
              "      <th>breath_number</th>\n",
              "      <th>pressure</th>\n",
              "    </tr>\n",
              "  </thead>\n",
              "  <tbody>\n",
              "    <tr>\n",
              "      <th>0</th>\n",
              "      <td>1</td>\n",
              "      <td>1</td>\n",
              "      <td>20</td>\n",
              "      <td>50</td>\n",
              "      <td>0.000000</td>\n",
              "      <td>0.083334</td>\n",
              "      <td>0</td>\n",
              "      <td>0.000000</td>\n",
              "      <td>0</td>\n",
              "      <td>5.837492</td>\n",
              "    </tr>\n",
              "    <tr>\n",
              "      <th>1</th>\n",
              "      <td>2</td>\n",
              "      <td>1</td>\n",
              "      <td>20</td>\n",
              "      <td>50</td>\n",
              "      <td>0.033652</td>\n",
              "      <td>18.383041</td>\n",
              "      <td>0</td>\n",
              "      <td>0.033652</td>\n",
              "      <td>1</td>\n",
              "      <td>5.907794</td>\n",
              "    </tr>\n",
              "    <tr>\n",
              "      <th>2</th>\n",
              "      <td>3</td>\n",
              "      <td>1</td>\n",
              "      <td>20</td>\n",
              "      <td>50</td>\n",
              "      <td>0.067514</td>\n",
              "      <td>22.509278</td>\n",
              "      <td>0</td>\n",
              "      <td>0.033862</td>\n",
              "      <td>2</td>\n",
              "      <td>7.876254</td>\n",
              "    </tr>\n",
              "    <tr>\n",
              "      <th>3</th>\n",
              "      <td>4</td>\n",
              "      <td>1</td>\n",
              "      <td>20</td>\n",
              "      <td>50</td>\n",
              "      <td>0.101542</td>\n",
              "      <td>22.808822</td>\n",
              "      <td>0</td>\n",
              "      <td>0.034028</td>\n",
              "      <td>3</td>\n",
              "      <td>11.742872</td>\n",
              "    </tr>\n",
              "    <tr>\n",
              "      <th>4</th>\n",
              "      <td>5</td>\n",
              "      <td>1</td>\n",
              "      <td>20</td>\n",
              "      <td>50</td>\n",
              "      <td>0.135756</td>\n",
              "      <td>25.355850</td>\n",
              "      <td>0</td>\n",
              "      <td>0.034213</td>\n",
              "      <td>4</td>\n",
              "      <td>12.234987</td>\n",
              "    </tr>\n",
              "    <tr>\n",
              "      <th>...</th>\n",
              "      <td>...</td>\n",
              "      <td>...</td>\n",
              "      <td>...</td>\n",
              "      <td>...</td>\n",
              "      <td>...</td>\n",
              "      <td>...</td>\n",
              "      <td>...</td>\n",
              "      <td>...</td>\n",
              "      <td>...</td>\n",
              "      <td>...</td>\n",
              "    </tr>\n",
              "    <tr>\n",
              "      <th>6035995</th>\n",
              "      <td>6035996</td>\n",
              "      <td>125749</td>\n",
              "      <td>50</td>\n",
              "      <td>10</td>\n",
              "      <td>2.504603</td>\n",
              "      <td>1.489714</td>\n",
              "      <td>1</td>\n",
              "      <td>0.033412</td>\n",
              "      <td>75</td>\n",
              "      <td>3.869032</td>\n",
              "    </tr>\n",
              "    <tr>\n",
              "      <th>6035996</th>\n",
              "      <td>6035997</td>\n",
              "      <td>125749</td>\n",
              "      <td>50</td>\n",
              "      <td>10</td>\n",
              "      <td>2.537961</td>\n",
              "      <td>1.488497</td>\n",
              "      <td>1</td>\n",
              "      <td>0.033358</td>\n",
              "      <td>76</td>\n",
              "      <td>3.869032</td>\n",
              "    </tr>\n",
              "    <tr>\n",
              "      <th>6035997</th>\n",
              "      <td>6035998</td>\n",
              "      <td>125749</td>\n",
              "      <td>50</td>\n",
              "      <td>10</td>\n",
              "      <td>2.571408</td>\n",
              "      <td>1.558978</td>\n",
              "      <td>1</td>\n",
              "      <td>0.033447</td>\n",
              "      <td>77</td>\n",
              "      <td>3.798729</td>\n",
              "    </tr>\n",
              "    <tr>\n",
              "      <th>6035998</th>\n",
              "      <td>6035999</td>\n",
              "      <td>125749</td>\n",
              "      <td>50</td>\n",
              "      <td>10</td>\n",
              "      <td>2.604744</td>\n",
              "      <td>1.272663</td>\n",
              "      <td>1</td>\n",
              "      <td>0.033337</td>\n",
              "      <td>78</td>\n",
              "      <td>4.079938</td>\n",
              "    </tr>\n",
              "    <tr>\n",
              "      <th>6035999</th>\n",
              "      <td>6036000</td>\n",
              "      <td>125749</td>\n",
              "      <td>50</td>\n",
              "      <td>10</td>\n",
              "      <td>2.638017</td>\n",
              "      <td>1.482739</td>\n",
              "      <td>1</td>\n",
              "      <td>0.033273</td>\n",
              "      <td>79</td>\n",
              "      <td>3.869032</td>\n",
              "    </tr>\n",
              "  </tbody>\n",
              "</table>\n",
              "<p>6036000 rows × 10 columns</p>\n",
              "</div>"
            ],
            "text/plain": [
              "              id  breath_id   R  ...  time_delta  breath_number   pressure\n",
              "0              1          1  20  ...    0.000000              0   5.837492\n",
              "1              2          1  20  ...    0.033652              1   5.907794\n",
              "2              3          1  20  ...    0.033862              2   7.876254\n",
              "3              4          1  20  ...    0.034028              3  11.742872\n",
              "4              5          1  20  ...    0.034213              4  12.234987\n",
              "...          ...        ...  ..  ...         ...            ...        ...\n",
              "6035995  6035996     125749  50  ...    0.033412             75   3.869032\n",
              "6035996  6035997     125749  50  ...    0.033358             76   3.869032\n",
              "6035997  6035998     125749  50  ...    0.033447             77   3.798729\n",
              "6035998  6035999     125749  50  ...    0.033337             78   4.079938\n",
              "6035999  6036000     125749  50  ...    0.033273             79   3.869032\n",
              "\n",
              "[6036000 rows x 10 columns]"
            ]
          },
          "metadata": {},
          "execution_count": 11
        }
      ]
    },
    {
      "cell_type": "code",
      "metadata": {
        "colab": {
          "base_uri": "https://localhost:8080/",
          "height": 419
        },
        "id": "_6tCmKi1huYk",
        "outputId": "53e33054-b046-41c0-a5db-733a552570e2"
      },
      "source": [
        "test"
      ],
      "execution_count": 12,
      "outputs": [
        {
          "output_type": "execute_result",
          "data": {
            "text/html": [
              "<div>\n",
              "<style scoped>\n",
              "    .dataframe tbody tr th:only-of-type {\n",
              "        vertical-align: middle;\n",
              "    }\n",
              "\n",
              "    .dataframe tbody tr th {\n",
              "        vertical-align: top;\n",
              "    }\n",
              "\n",
              "    .dataframe thead th {\n",
              "        text-align: right;\n",
              "    }\n",
              "</style>\n",
              "<table border=\"1\" class=\"dataframe\">\n",
              "  <thead>\n",
              "    <tr style=\"text-align: right;\">\n",
              "      <th></th>\n",
              "      <th>id</th>\n",
              "      <th>breath_id</th>\n",
              "      <th>R</th>\n",
              "      <th>C</th>\n",
              "      <th>time_step</th>\n",
              "      <th>u_in</th>\n",
              "      <th>u_out</th>\n",
              "      <th>time_delta</th>\n",
              "      <th>breath_number</th>\n",
              "    </tr>\n",
              "  </thead>\n",
              "  <tbody>\n",
              "    <tr>\n",
              "      <th>0</th>\n",
              "      <td>1</td>\n",
              "      <td>0</td>\n",
              "      <td>5</td>\n",
              "      <td>20</td>\n",
              "      <td>0.000000</td>\n",
              "      <td>0.000000</td>\n",
              "      <td>0</td>\n",
              "      <td>0.000000</td>\n",
              "      <td>0</td>\n",
              "    </tr>\n",
              "    <tr>\n",
              "      <th>1</th>\n",
              "      <td>2</td>\n",
              "      <td>0</td>\n",
              "      <td>5</td>\n",
              "      <td>20</td>\n",
              "      <td>0.031904</td>\n",
              "      <td>7.515046</td>\n",
              "      <td>0</td>\n",
              "      <td>0.031904</td>\n",
              "      <td>1</td>\n",
              "    </tr>\n",
              "    <tr>\n",
              "      <th>2</th>\n",
              "      <td>3</td>\n",
              "      <td>0</td>\n",
              "      <td>5</td>\n",
              "      <td>20</td>\n",
              "      <td>0.063827</td>\n",
              "      <td>14.651675</td>\n",
              "      <td>0</td>\n",
              "      <td>0.031924</td>\n",
              "      <td>2</td>\n",
              "    </tr>\n",
              "    <tr>\n",
              "      <th>3</th>\n",
              "      <td>4</td>\n",
              "      <td>0</td>\n",
              "      <td>5</td>\n",
              "      <td>20</td>\n",
              "      <td>0.095751</td>\n",
              "      <td>21.230610</td>\n",
              "      <td>0</td>\n",
              "      <td>0.031924</td>\n",
              "      <td>3</td>\n",
              "    </tr>\n",
              "    <tr>\n",
              "      <th>4</th>\n",
              "      <td>5</td>\n",
              "      <td>0</td>\n",
              "      <td>5</td>\n",
              "      <td>20</td>\n",
              "      <td>0.127644</td>\n",
              "      <td>26.320956</td>\n",
              "      <td>0</td>\n",
              "      <td>0.031893</td>\n",
              "      <td>4</td>\n",
              "    </tr>\n",
              "    <tr>\n",
              "      <th>...</th>\n",
              "      <td>...</td>\n",
              "      <td>...</td>\n",
              "      <td>...</td>\n",
              "      <td>...</td>\n",
              "      <td>...</td>\n",
              "      <td>...</td>\n",
              "      <td>...</td>\n",
              "      <td>...</td>\n",
              "      <td>...</td>\n",
              "    </tr>\n",
              "    <tr>\n",
              "      <th>4023995</th>\n",
              "      <td>4023996</td>\n",
              "      <td>125748</td>\n",
              "      <td>20</td>\n",
              "      <td>10</td>\n",
              "      <td>2.530117</td>\n",
              "      <td>4.971245</td>\n",
              "      <td>1</td>\n",
              "      <td>0.033753</td>\n",
              "      <td>75</td>\n",
              "    </tr>\n",
              "    <tr>\n",
              "      <th>4023996</th>\n",
              "      <td>4023997</td>\n",
              "      <td>125748</td>\n",
              "      <td>20</td>\n",
              "      <td>10</td>\n",
              "      <td>2.563853</td>\n",
              "      <td>4.975709</td>\n",
              "      <td>1</td>\n",
              "      <td>0.033736</td>\n",
              "      <td>76</td>\n",
              "    </tr>\n",
              "    <tr>\n",
              "      <th>4023997</th>\n",
              "      <td>4023998</td>\n",
              "      <td>125748</td>\n",
              "      <td>20</td>\n",
              "      <td>10</td>\n",
              "      <td>2.597475</td>\n",
              "      <td>4.979468</td>\n",
              "      <td>1</td>\n",
              "      <td>0.033622</td>\n",
              "      <td>77</td>\n",
              "    </tr>\n",
              "    <tr>\n",
              "      <th>4023998</th>\n",
              "      <td>4023999</td>\n",
              "      <td>125748</td>\n",
              "      <td>20</td>\n",
              "      <td>10</td>\n",
              "      <td>2.631134</td>\n",
              "      <td>4.982648</td>\n",
              "      <td>1</td>\n",
              "      <td>0.033659</td>\n",
              "      <td>78</td>\n",
              "    </tr>\n",
              "    <tr>\n",
              "      <th>4023999</th>\n",
              "      <td>4024000</td>\n",
              "      <td>125748</td>\n",
              "      <td>20</td>\n",
              "      <td>10</td>\n",
              "      <td>2.665301</td>\n",
              "      <td>4.985373</td>\n",
              "      <td>1</td>\n",
              "      <td>0.034167</td>\n",
              "      <td>79</td>\n",
              "    </tr>\n",
              "  </tbody>\n",
              "</table>\n",
              "<p>4024000 rows × 9 columns</p>\n",
              "</div>"
            ],
            "text/plain": [
              "              id  breath_id   R  ...  u_out  time_delta  breath_number\n",
              "0              1          0   5  ...      0    0.000000              0\n",
              "1              2          0   5  ...      0    0.031904              1\n",
              "2              3          0   5  ...      0    0.031924              2\n",
              "3              4          0   5  ...      0    0.031924              3\n",
              "4              5          0   5  ...      0    0.031893              4\n",
              "...          ...        ...  ..  ...    ...         ...            ...\n",
              "4023995  4023996     125748  20  ...      1    0.033753             75\n",
              "4023996  4023997     125748  20  ...      1    0.033736             76\n",
              "4023997  4023998     125748  20  ...      1    0.033622             77\n",
              "4023998  4023999     125748  20  ...      1    0.033659             78\n",
              "4023999  4024000     125748  20  ...      1    0.034167             79\n",
              "\n",
              "[4024000 rows x 9 columns]"
            ]
          },
          "metadata": {},
          "execution_count": 12
        }
      ]
    },
    {
      "cell_type": "code",
      "metadata": {
        "id": "peoYaZhflnq7"
      },
      "source": [
        "## Exploring LSTM model"
      ],
      "execution_count": null,
      "outputs": []
    },
    {
      "cell_type": "code",
      "metadata": {
        "id": "77HTOA2Nlnt7"
      },
      "source": [
        ""
      ],
      "execution_count": null,
      "outputs": []
    },
    {
      "cell_type": "code",
      "metadata": {
        "id": "G4UysIm-lnwn"
      },
      "source": [
        ""
      ],
      "execution_count": null,
      "outputs": []
    },
    {
      "cell_type": "code",
      "metadata": {
        "id": "WgNWGESmln0V"
      },
      "source": [
        ""
      ],
      "execution_count": null,
      "outputs": []
    },
    {
      "cell_type": "code",
      "metadata": {
        "id": "zYurjgxp53iX"
      },
      "source": [
        "# Approach1: #https://www.youtube.com/watch?v=4FmVIpcwl4k"
      ],
      "execution_count": null,
      "outputs": []
    },
    {
      "cell_type": "code",
      "metadata": {
        "id": "n3_x9rypNCP6"
      },
      "source": [
        "from sklearn.model_selection import train_test_split\n",
        "from keras.preprocessing.sequence import TimeseriesGenerator\n",
        "from sklearn.preprocessing import MinMaxScaler, StandardScaler\n",
        "import tensorflow as tf\n",
        "\n"
      ],
      "execution_count": 14,
      "outputs": []
    },
    {
      "cell_type": "code",
      "metadata": {
        "id": "aUorEL7r53mL"
      },
      "source": [
        "\n",
        "scaler=MinMaxScaler()"
      ],
      "execution_count": 15,
      "outputs": []
    },
    {
      "cell_type": "code",
      "metadata": {
        "id": "wAyNAWB7OHRg"
      },
      "source": [
        "#Dropping the id and breath_id columns as they are global unique ID numbers and scaling might introduce negative learning for the model.\n",
        "train_new=train.drop(['id','breath_id'],axis=1)\n",
        "test_new=test.drop(['id','breath_id'],axis=1)"
      ],
      "execution_count": 16,
      "outputs": []
    },
    {
      "cell_type": "code",
      "metadata": {
        "id": "ehBqo0ikOHno"
      },
      "source": [
        ""
      ],
      "execution_count": null,
      "outputs": []
    },
    {
      "cell_type": "code",
      "metadata": {
        "id": "XBy4KUWW8L18"
      },
      "source": [
        "scaled_train=scaler.fit_transform(train_new)"
      ],
      "execution_count": 17,
      "outputs": []
    },
    {
      "cell_type": "code",
      "metadata": {
        "colab": {
          "base_uri": "https://localhost:8080/"
        },
        "id": "Tle5boD28LyS",
        "outputId": "406e6d58-b03a-4b0a-800a-87cd58100ebc"
      },
      "source": [
        "scaled_train"
      ],
      "execution_count": 18,
      "outputs": [
        {
          "output_type": "execute_result",
          "data": {
            "text/plain": [
              "array([[0.33333333, 1.        , 0.        , ..., 0.        , 0.        ,\n",
              "        0.11591149],\n",
              "       [0.33333333, 1.        , 0.01145713, ..., 0.13402319, 0.01265823,\n",
              "        0.11696523],\n",
              "       [0.33333333, 1.        , 0.02298568, ..., 0.13485877, 0.02531646,\n",
              "        0.14646997],\n",
              "       ...,\n",
              "       [1.        , 0.        , 0.87545087, ..., 0.1332047 , 0.97468354,\n",
              "        0.085353  ],\n",
              "       [1.        , 0.        , 0.88680061, ..., 0.13276697, 0.98734177,\n",
              "        0.08956797],\n",
              "       [1.        , 0.        , 0.89812859, ..., 0.1325125 , 1.        ,\n",
              "        0.08640674]])"
            ]
          },
          "metadata": {},
          "execution_count": 18
        }
      ]
    },
    {
      "cell_type": "code",
      "metadata": {
        "id": "b8LFjRSf8LvY"
      },
      "source": [
        ""
      ],
      "execution_count": null,
      "outputs": []
    },
    {
      "cell_type": "code",
      "metadata": {
        "id": "O6ko14LC8LsI"
      },
      "source": [
        ""
      ],
      "execution_count": null,
      "outputs": []
    },
    {
      "cell_type": "code",
      "metadata": {
        "id": "QG1ExSzM8LpK"
      },
      "source": [
        "features=scaled_train[:,0:-1] # Selecting the columns other than \"pressure\" as the features\n",
        "target=scaled_train[:,-1] # Selecting the \"pressure\" column as the target"
      ],
      "execution_count": 31,
      "outputs": []
    },
    {
      "cell_type": "code",
      "metadata": {
        "colab": {
          "base_uri": "https://localhost:8080/"
        },
        "id": "3B656BmhqF_i",
        "outputId": "318690a7-1826-4003-94dc-152f05f43a69"
      },
      "source": [
        "features.shape, target.shape"
      ],
      "execution_count": 32,
      "outputs": [
        {
          "output_type": "execute_result",
          "data": {
            "text/plain": [
              "((6036000, 7), (6036000,))"
            ]
          },
          "metadata": {},
          "execution_count": 32
        }
      ]
    },
    {
      "cell_type": "code",
      "metadata": {
        "id": "P9z3tyX_ro56"
      },
      "source": [
        "#Comparing the first row of the scaled data with the features/target value to make sure the selection of array is right"
      ],
      "execution_count": 33,
      "outputs": []
    },
    {
      "cell_type": "code",
      "metadata": {
        "colab": {
          "base_uri": "https://localhost:8080/"
        },
        "id": "A50H0KofrWJt",
        "outputId": "84ae3047-c362-4902-9dfd-13f1749ea2f0"
      },
      "source": [
        "scaled_train[0]"
      ],
      "execution_count": 30,
      "outputs": [
        {
          "output_type": "execute_result",
          "data": {
            "text/plain": [
              "array([3.33333333e-01, 1.00000000e+00, 0.00000000e+00, 8.33340056e-04,\n",
              "       0.00000000e+00, 0.00000000e+00, 0.00000000e+00, 1.15911486e-01])"
            ]
          },
          "metadata": {},
          "execution_count": 30
        }
      ]
    },
    {
      "cell_type": "code",
      "metadata": {
        "colab": {
          "base_uri": "https://localhost:8080/"
        },
        "id": "E20JWFy7qucV",
        "outputId": "9a166bca-35ce-462a-af5e-d89b3ef3e905"
      },
      "source": [
        "features[0], target[0]"
      ],
      "execution_count": 29,
      "outputs": [
        {
          "output_type": "execute_result",
          "data": {
            "text/plain": [
              "(array([3.33333333e-01, 1.00000000e+00, 0.00000000e+00, 8.33340056e-04,\n",
              "        0.00000000e+00, 0.00000000e+00, 0.00000000e+00]), 0.11591148577449925)"
            ]
          },
          "metadata": {},
          "execution_count": 29
        }
      ]
    },
    {
      "cell_type": "code",
      "metadata": {
        "colab": {
          "base_uri": "https://localhost:8080/"
        },
        "id": "d_mc0XZs8Ll6",
        "outputId": "49be08b2-4a01-4148-9308-5717cacd6772"
      },
      "source": [
        "len(train), len(test)"
      ],
      "execution_count": 20,
      "outputs": [
        {
          "output_type": "execute_result",
          "data": {
            "text/plain": [
              "(6036000, 4024000)"
            ]
          },
          "metadata": {},
          "execution_count": 20
        }
      ]
    },
    {
      "cell_type": "code",
      "metadata": {
        "colab": {
          "base_uri": "https://localhost:8080/"
        },
        "id": "i1obFyvY8Liu",
        "outputId": "ef725d0e-3a72-4ea2-c901-555377b23c64"
      },
      "source": [
        "TimeseriesGenerator(features, target, length=70, sampling_rate=10, batch_size=1)[0]"
      ],
      "execution_count": 34,
      "outputs": [
        {
          "output_type": "execute_result",
          "data": {
            "text/plain": [
              "(array([[[3.33333333e-01, 1.00000000e+00, 0.00000000e+00, 8.33340056e-04,\n",
              "          0.00000000e+00, 0.00000000e+00, 0.00000000e+00],\n",
              "         [3.33333333e-01, 1.00000000e+00, 1.15644341e-01, 2.68667582e-01,\n",
              "          0.00000000e+00, 1.35181610e-01, 1.26582278e-01],\n",
              "         [3.33333333e-01, 1.00000000e+00, 2.31569858e-01, 2.07010462e-01,\n",
              "          0.00000000e+00, 1.35889954e-01, 2.53164557e-01],\n",
              "         [3.33333333e-01, 1.00000000e+00, 3.47706907e-01, 0.00000000e+00,\n",
              "          1.00000000e+00, 1.34654625e-01, 3.79746835e-01],\n",
              "         [3.33333333e-01, 1.00000000e+00, 4.63580556e-01, 0.00000000e+00,\n",
              "          1.00000000e+00, 1.35470265e-01, 5.06329114e-01],\n",
              "         [3.33333333e-01, 1.00000000e+00, 5.79517437e-01, 3.19777307e-02,\n",
              "          1.00000000e+00, 1.35566167e-01, 6.32911392e-01],\n",
              "         [3.33333333e-01, 1.00000000e+00, 6.95289459e-01, 4.67084510e-02,\n",
              "          1.00000000e+00, 1.36060868e-01, 7.59493671e-01]]]),\n",
              " array([0.12961012]))"
            ]
          },
          "metadata": {},
          "execution_count": 34
        }
      ]
    },
    {
      "cell_type": "code",
      "metadata": {
        "id": "Nuxsyl0F8Lfh"
      },
      "source": [
        "#Dividing the data to train and validation to ensure model is able to \n",
        "x_train, x_val, y_train, y_val = train_test_split(features, target, test_size=0.2, random_state=123, shuffle=False)"
      ],
      "execution_count": 35,
      "outputs": []
    },
    {
      "cell_type": "code",
      "metadata": {
        "colab": {
          "base_uri": "https://localhost:8080/"
        },
        "id": "gWATtJi48LcI",
        "outputId": "915a995c-8467-4e17-8789-5ad7eebf128d"
      },
      "source": [
        "x_train.shape"
      ],
      "execution_count": 36,
      "outputs": [
        {
          "output_type": "execute_result",
          "data": {
            "text/plain": [
              "(4828800, 7)"
            ]
          },
          "metadata": {},
          "execution_count": 36
        }
      ]
    },
    {
      "cell_type": "code",
      "metadata": {
        "colab": {
          "base_uri": "https://localhost:8080/"
        },
        "id": "UcZsUMmd8LAy",
        "outputId": "03d09209-5f29-4362-d7b0-36d23195c215"
      },
      "source": [
        "x_val.shape"
      ],
      "execution_count": 38,
      "outputs": [
        {
          "output_type": "execute_result",
          "data": {
            "text/plain": [
              "(1207200, 7)"
            ]
          },
          "metadata": {},
          "execution_count": 38
        }
      ]
    },
    {
      "cell_type": "code",
      "metadata": {
        "id": "gyrx4-Hd8K8N"
      },
      "source": [
        "\n",
        "win_length=80 # \n",
        "batch_size=80 # No. of rows to be trained in each batch\n",
        "num_features=7\n",
        "train_generator= TimeseriesGenerator(x_train, y_train, length=win_length, sampling_rate=1, batch_size=batch_size)\n",
        "test_generator= TimeseriesGenerator(x_val, y_val, length=win_length, sampling_rate=1, batch_size=batch_size)"
      ],
      "execution_count": 41,
      "outputs": []
    },
    {
      "cell_type": "code",
      "metadata": {
        "colab": {
          "base_uri": "https://localhost:8080/"
        },
        "id": "P5vxJoJLRfwI",
        "outputId": "21157115-4631-4edd-b5ba-b6393064175b"
      },
      "source": [
        "train_generator[0]"
      ],
      "execution_count": 42,
      "outputs": [
        {
          "output_type": "execute_result",
          "data": {
            "text/plain": [
              "(array([[[0.33333333, 1.        , 0.        , ..., 0.        ,\n",
              "          0.        , 0.        ],\n",
              "         [0.33333333, 1.        , 0.01145713, ..., 0.        ,\n",
              "          0.13402319, 0.01265823],\n",
              "         [0.33333333, 1.        , 0.02298568, ..., 0.        ,\n",
              "          0.13485877, 0.02531646],\n",
              "         ...,\n",
              "         [0.33333333, 1.        , 0.89259825, ..., 1.        ,\n",
              "          0.13548736, 0.97468354],\n",
              "         [0.33333333, 1.        , 0.90416431, ..., 1.        ,\n",
              "          0.13529745, 0.98734177],\n",
              "         [0.33333333, 1.        , 0.91574676, ..., 1.        ,\n",
              "          0.13548926, 1.        ]],\n",
              " \n",
              "        [[0.33333333, 1.        , 0.01145713, ..., 0.        ,\n",
              "          0.13402319, 0.01265823],\n",
              "         [0.33333333, 1.        , 0.02298568, ..., 0.        ,\n",
              "          0.13485877, 0.02531646],\n",
              "         [0.33333333, 1.        , 0.03457065, ..., 0.        ,\n",
              "          0.13551869, 0.03797468],\n",
              "         ...,\n",
              "         [0.33333333, 1.        , 0.90416431, ..., 1.        ,\n",
              "          0.13529745, 0.98734177],\n",
              "         [0.33333333, 1.        , 0.91574676, ..., 1.        ,\n",
              "          0.13548926, 1.        ],\n",
              "         [0.33333333, 0.25      , 0.        , ..., 0.        ,\n",
              "          0.        , 0.        ]],\n",
              " \n",
              "        [[0.33333333, 1.        , 0.02298568, ..., 0.        ,\n",
              "          0.13485877, 0.02531646],\n",
              "         [0.33333333, 1.        , 0.03457065, ..., 0.        ,\n",
              "          0.13551869, 0.03797468],\n",
              "         [0.33333333, 1.        , 0.04621877, ..., 0.        ,\n",
              "          0.13625742, 0.05063291],\n",
              "         ...,\n",
              "         [0.33333333, 1.        , 0.91574676, ..., 1.        ,\n",
              "          0.13548926, 1.        ],\n",
              "         [0.33333333, 0.25      , 0.        , ..., 0.        ,\n",
              "          0.        , 0.        ],\n",
              "         [0.33333333, 0.25      , 0.01157466, ..., 0.        ,\n",
              "          0.1353981 , 0.01265823]],\n",
              " \n",
              "        ...,\n",
              " \n",
              "        [[0.33333333, 1.        , 0.89259825, ..., 1.        ,\n",
              "          0.13548736, 0.97468354],\n",
              "         [0.33333333, 1.        , 0.90416431, ..., 1.        ,\n",
              "          0.13529745, 0.98734177],\n",
              "         [0.33333333, 1.        , 0.91574676, ..., 1.        ,\n",
              "          0.13548926, 1.        ],\n",
              "         ...,\n",
              "         [0.33333333, 0.25      , 0.85803572, ..., 1.        ,\n",
              "          0.1358026 , 0.93670886],\n",
              "         [0.33333333, 0.25      , 0.86964788, ..., 1.        ,\n",
              "          0.13583678, 0.94936709],\n",
              "         [0.33333333, 0.25      , 0.88124032, ..., 1.        ,\n",
              "          0.13560605, 0.96202532]],\n",
              " \n",
              "        [[0.33333333, 1.        , 0.90416431, ..., 1.        ,\n",
              "          0.13529745, 0.98734177],\n",
              "         [0.33333333, 1.        , 0.91574676, ..., 1.        ,\n",
              "          0.13548926, 1.        ],\n",
              "         [0.33333333, 0.25      , 0.        , ..., 0.        ,\n",
              "          0.        , 0.        ],\n",
              "         ...,\n",
              "         [0.33333333, 0.25      , 0.86964788, ..., 1.        ,\n",
              "          0.13583678, 0.94936709],\n",
              "         [0.33333333, 0.25      , 0.88124032, ..., 1.        ,\n",
              "          0.13560605, 0.96202532],\n",
              "         [0.33333333, 0.25      , 0.89283754, ..., 1.        ,\n",
              "          0.13566207, 0.97468354]],\n",
              " \n",
              "        [[0.33333333, 1.        , 0.91574676, ..., 1.        ,\n",
              "          0.13548926, 1.        ],\n",
              "         [0.33333333, 0.25      , 0.        , ..., 0.        ,\n",
              "          0.        , 0.        ],\n",
              "         [0.33333333, 0.25      , 0.01157466, ..., 0.        ,\n",
              "          0.1353981 , 0.01265823],\n",
              "         ...,\n",
              "         [0.33333333, 0.25      , 0.88124032, ..., 1.        ,\n",
              "          0.13560605, 0.96202532],\n",
              "         [0.33333333, 0.25      , 0.89283754, ..., 1.        ,\n",
              "          0.13566207, 0.97468354],\n",
              "         [0.33333333, 0.25      , 0.9044217 , ..., 1.        ,\n",
              "          0.1355092 , 0.98734177]]]),\n",
              " array([0.11907271, 0.14120126, 0.16754478, 0.1833509 , 0.17597471,\n",
              "        0.19599579, 0.20126449, 0.19494204, 0.21390938, 0.21496312,\n",
              "        0.22655427, 0.22655427, 0.23393045, 0.25289779, 0.24341412,\n",
              "        0.25395153, 0.25500527, 0.24868282, 0.26554268, 0.26448894,\n",
              "        0.2739726 , 0.2739726 , 0.26765016, 0.28451001, 0.28240253,\n",
              "        0.29083246, 0.28872497, 0.30031612, 0.29504742, 0.30663857,\n",
              "        0.28556375, 0.17597471, 0.14646997, 0.15173867, 0.13909378,\n",
              "        0.12961012, 0.14436249, 0.12434141, 0.12434141, 0.1369863 ,\n",
              "        0.11696523, 0.12750263, 0.12328767, 0.12223393, 0.13066386,\n",
              "        0.11801897, 0.12434141, 0.12750263, 0.13277134, 0.12644889,\n",
              "        0.13066386, 0.12539515, 0.13382508, 0.12118019, 0.13382508,\n",
              "        0.13066386, 0.13382508, 0.12961012, 0.13487882, 0.113804  ,\n",
              "        0.12644889, 0.11591149, 0.12223393, 0.113804  , 0.12012645,\n",
              "        0.11275026, 0.11801897, 0.11169652, 0.113804  , 0.1085353 ,\n",
              "        0.11275026, 0.10537408, 0.11064278, 0.10432034, 0.10642782,\n",
              "        0.10432034, 0.10642782, 0.1032666 , 0.10432034, 0.10537408]))"
            ]
          },
          "metadata": {},
          "execution_count": 42
        }
      ]
    },
    {
      "cell_type": "code",
      "metadata": {
        "id": "gVbZAi07RfzW"
      },
      "source": [
        "model=tf.keras.Sequential()\n",
        "model.add(tf.keras.layers.LSTM(12, input_shape=(win_length, num_features), return_sequences=True))\n",
        "model.add(tf.keras.layers.LeakyReLU(alpha=0.5))\n",
        "#model.add(tf.keras.layers.LSTM(12, return_sequences=True))\n",
        "#model.add(tf.keras.layers.LeakyReLU(alpha=0.5))\n",
        "#model.add(tf.keras.layers.Dropout(0.3))\n",
        "model.add(tf.keras.layers.LSTM(6, return_sequences=False))\n",
        "model.add(tf.keras.layers.Dropout(0.3))\n",
        "model.add(tf.keras.layers.Dense(1))"
      ],
      "execution_count": 43,
      "outputs": []
    },
    {
      "cell_type": "code",
      "metadata": {
        "colab": {
          "base_uri": "https://localhost:8080/"
        },
        "id": "jgRs97T6Rf2-",
        "outputId": "4460df30-239f-416f-fa8a-17c9d860286a"
      },
      "source": [
        "model.summary()"
      ],
      "execution_count": 44,
      "outputs": [
        {
          "output_type": "stream",
          "name": "stdout",
          "text": [
            "Model: \"sequential\"\n",
            "_________________________________________________________________\n",
            "Layer (type)                 Output Shape              Param #   \n",
            "=================================================================\n",
            "lstm (LSTM)                  (None, 80, 12)            960       \n",
            "_________________________________________________________________\n",
            "leaky_re_lu (LeakyReLU)      (None, 80, 12)            0         \n",
            "_________________________________________________________________\n",
            "lstm_1 (LSTM)                (None, 6)                 456       \n",
            "_________________________________________________________________\n",
            "dropout (Dropout)            (None, 6)                 0         \n",
            "_________________________________________________________________\n",
            "dense (Dense)                (None, 1)                 7         \n",
            "=================================================================\n",
            "Total params: 1,423\n",
            "Trainable params: 1,423\n",
            "Non-trainable params: 0\n",
            "_________________________________________________________________\n"
          ]
        }
      ]
    },
    {
      "cell_type": "code",
      "metadata": {
        "colab": {
          "base_uri": "https://localhost:8080/"
        },
        "id": "vCGPd1poRf5B",
        "outputId": "7858723a-d98e-44cd-a931-f01d6ae3668a"
      },
      "source": [
        "early_stopping = tf.keras.callbacks.EarlyStopping(monitor='val_loss', patience=2, mode='min')\n",
        "model.compile(loss=tf.losses.MeanSquaredError(), optimizer=tf.optimizers.Adam(), metrics=[tf.metrics.MeanAbsoluteError()])\n",
        "\n",
        "history=model.fit_generator(train_generator,epochs=1, validation_data=test_generator, shuffle=False, callbacks=[early_stopping])"
      ],
      "execution_count": null,
      "outputs": [
        {
          "output_type": "stream",
          "name": "stderr",
          "text": [
            "/usr/local/lib/python3.7/dist-packages/keras/engine/training.py:1972: UserWarning: `Model.fit_generator` is deprecated and will be removed in a future version. Please use `Model.fit`, which supports generators.\n",
            "  warnings.warn('`Model.fit_generator` is deprecated and '\n"
          ]
        },
        {
          "output_type": "stream",
          "name": "stdout",
          "text": [
            " 3401/60359 [>.............................] - ETA: 58:48 - loss: 0.0053 - mean_absolute_error: 0.0440"
          ]
        }
      ]
    },
    {
      "cell_type": "code",
      "metadata": {
        "colab": {
          "base_uri": "https://localhost:8080/"
        },
        "id": "zg3EG7-FRf9O",
        "outputId": "ada1178b-91d6-41bc-96d1-1750095f9e05"
      },
      "source": [
        "model.evaluate_generator(test_generator, verbose=0)"
      ],
      "execution_count": null,
      "outputs": [
        {
          "output_type": "stream",
          "name": "stderr",
          "text": [
            "/usr/local/lib/python3.7/dist-packages/keras/engine/training.py:2006: UserWarning:\n",
            "\n",
            "`Model.evaluate_generator` is deprecated and will be removed in a future version. Please use `Model.evaluate`, which supports generators.\n",
            "\n"
          ]
        },
        {
          "output_type": "execute_result",
          "data": {
            "text/plain": [
              "[0.0002455645299050957, 0.011780623346567154]"
            ]
          },
          "metadata": {},
          "execution_count": 57
        }
      ]
    },
    {
      "cell_type": "code",
      "metadata": {
        "colab": {
          "base_uri": "https://localhost:8080/"
        },
        "id": "-BPG-qpeRf-w",
        "outputId": "76f5c358-2d1f-440f-cf36-5f4d7b868ce7"
      },
      "source": [
        "predictions=model.predict_generator(test_generator)"
      ],
      "execution_count": null,
      "outputs": [
        {
          "output_type": "stream",
          "name": "stderr",
          "text": [
            "/usr/local/lib/python3.7/dist-packages/keras/engine/training.py:2035: UserWarning:\n",
            "\n",
            "`Model.predict_generator` is deprecated and will be removed in a future version. Please use `Model.predict`, which supports generators.\n",
            "\n"
          ]
        }
      ]
    },
    {
      "cell_type": "code",
      "metadata": {
        "colab": {
          "base_uri": "https://localhost:8080/"
        },
        "id": "xsrjYkTDRgDC",
        "outputId": "5a6737e0-7c59-4712-cccd-e78ebe5bfde0"
      },
      "source": [
        "predictions.shape[0]"
      ],
      "execution_count": null,
      "outputs": [
        {
          "output_type": "execute_result",
          "data": {
            "text/plain": [
              "1207120"
            ]
          },
          "metadata": {},
          "execution_count": 59
        }
      ]
    },
    {
      "cell_type": "code",
      "metadata": {
        "colab": {
          "base_uri": "https://localhost:8080/"
        },
        "id": "gdaDi3XBRgEu",
        "outputId": "40027e3e-e4d3-4256-cca4-fd9e75938d15"
      },
      "source": [
        "predictions"
      ],
      "execution_count": null,
      "outputs": [
        {
          "output_type": "execute_result",
          "data": {
            "text/plain": [
              "array([[0.10278767],\n",
              "       [0.13540737],\n",
              "       [0.15879878],\n",
              "       ...,\n",
              "       [0.10686669],\n",
              "       [0.10636425],\n",
              "       [0.106952  ]], dtype=float32)"
            ]
          },
          "metadata": {},
          "execution_count": 60
        }
      ]
    },
    {
      "cell_type": "code",
      "metadata": {
        "colab": {
          "base_uri": "https://localhost:8080/"
        },
        "id": "qF9GikecRgHx",
        "outputId": "9df42ac4-4f50-4f78-904d-b58c80a219de"
      },
      "source": [
        "y_test"
      ],
      "execution_count": null,
      "outputs": [
        {
          "output_type": "execute_result",
          "data": {
            "text/plain": [
              "array([0.07270811, 0.07692308, 0.085353  , ..., 0.085353  , 0.08956797,\n",
              "       0.08640674])"
            ]
          },
          "metadata": {},
          "execution_count": 61
        }
      ]
    },
    {
      "cell_type": "code",
      "metadata": {
        "colab": {
          "base_uri": "https://localhost:8080/"
        },
        "id": "cVcr2DKQRgML",
        "outputId": "a0fc1b97-9e56-4e0b-db08-a3b2e4c6d1cc"
      },
      "source": [
        "x_test"
      ],
      "execution_count": null,
      "outputs": [
        {
          "output_type": "execute_result",
          "data": {
            "text/plain": [
              "array([[1.        , 0.        , 0.        , 0.0212194 , 0.        ,\n",
              "        0.07270811],\n",
              "       [1.        , 0.        , 0.01140079, 0.03040999, 0.        ,\n",
              "        0.07692308],\n",
              "       [1.        , 0.        , 0.02278194, 0.03865732, 0.        ,\n",
              "        0.085353  ],\n",
              "       ...,\n",
              "       [1.        , 0.        , 0.87545087, 0.01558978, 1.        ,\n",
              "        0.085353  ],\n",
              "       [1.        , 0.        , 0.88680061, 0.01272663, 1.        ,\n",
              "        0.08956797],\n",
              "       [1.        , 0.        , 0.89812859, 0.01482739, 1.        ,\n",
              "        0.08640674]])"
            ]
          },
          "metadata": {},
          "execution_count": 62
        }
      ]
    },
    {
      "cell_type": "code",
      "metadata": {
        "colab": {
          "base_uri": "https://localhost:8080/"
        },
        "id": "UjJ8i7CQRgOA",
        "outputId": "ed2d795c-8234-4cb9-8c00-f6ccec582097"
      },
      "source": [
        "x_test[:,:-1][win_length:]"
      ],
      "execution_count": null,
      "outputs": [
        {
          "output_type": "execute_result",
          "data": {
            "text/plain": [
              "array([[0.        , 0.        , 0.        , 0.27893426, 0.        ],\n",
              "       [0.        , 0.        , 0.01086149, 0.28355812, 0.        ],\n",
              "       [0.        , 0.        , 0.02170829, 0.27429018, 0.        ],\n",
              "       ...,\n",
              "       [1.        , 0.        , 0.87545087, 0.01558978, 1.        ],\n",
              "       [1.        , 0.        , 0.88680061, 0.01272663, 1.        ],\n",
              "       [1.        , 0.        , 0.89812859, 0.01482739, 1.        ]])"
            ]
          },
          "metadata": {},
          "execution_count": 67
        }
      ]
    },
    {
      "cell_type": "code",
      "metadata": {
        "id": "aCt0sdouRgRE"
      },
      "source": [
        "df_pred=pd.concat([pd.DataFrame(x_test[:,:-1][win_length:]),pd.DataFrame(predictions)], axis=1)\n",
        "rev_trans=scaler.inverse_transform(df_pred)"
      ],
      "execution_count": null,
      "outputs": []
    },
    {
      "cell_type": "code",
      "metadata": {
        "colab": {
          "base_uri": "https://localhost:8080/"
        },
        "id": "pdSOPqbjRgUB",
        "outputId": "4f07b5eb-b55f-49de-d73d-7f0ec945577b"
      },
      "source": [
        "rev_trans"
      ],
      "execution_count": null,
      "outputs": [
        {
          "output_type": "execute_result",
          "data": {
            "text/plain": [
              "array([[5.00000000e+00, 1.00000000e+01, 0.00000000e+00, 2.78934262e+01,\n",
              "        0.00000000e+00, 4.96191329e+00],\n",
              "       [5.00000000e+00, 1.00000000e+01, 3.19027901e-02, 2.83558125e+01,\n",
              "        0.00000000e+00, 7.13819369e+00],\n",
              "       [5.00000000e+00, 1.00000000e+01, 6.37624264e-02, 2.74290179e+01,\n",
              "        0.00000000e+00, 8.69879226e+00],\n",
              "       ...,\n",
              "       [5.00000000e+01, 1.00000000e+01, 2.57140756e+00, 1.55897786e+00,\n",
              "        1.00000000e+00, 5.23405279e+00],\n",
              "       [5.00000000e+01, 1.00000000e+01, 2.60474443e+00, 1.27266322e+00,\n",
              "        1.00000000e+00, 5.20053131e+00],\n",
              "       [5.00000000e+01, 1.00000000e+01, 2.63801742e+00, 1.48273915e+00,\n",
              "        1.00000000e+00, 5.23974384e+00]])"
            ]
          },
          "metadata": {},
          "execution_count": 69
        }
      ]
    },
    {
      "cell_type": "code",
      "metadata": {
        "id": "qV0P4Tlmd7r2"
      },
      "source": [
        "df_final=train[predictions.shape[0]*-1:]"
      ],
      "execution_count": null,
      "outputs": []
    },
    {
      "cell_type": "code",
      "metadata": {
        "colab": {
          "base_uri": "https://localhost:8080/",
          "height": 419
        },
        "id": "N2rwF-NZd7vc",
        "outputId": "4708040e-3544-481d-aae5-14fa4a2f1bcb"
      },
      "source": [
        "df_final"
      ],
      "execution_count": null,
      "outputs": [
        {
          "output_type": "execute_result",
          "data": {
            "text/html": [
              "<div>\n",
              "<style scoped>\n",
              "    .dataframe tbody tr th:only-of-type {\n",
              "        vertical-align: middle;\n",
              "    }\n",
              "\n",
              "    .dataframe tbody tr th {\n",
              "        vertical-align: top;\n",
              "    }\n",
              "\n",
              "    .dataframe thead th {\n",
              "        text-align: right;\n",
              "    }\n",
              "</style>\n",
              "<table border=\"1\" class=\"dataframe\">\n",
              "  <thead>\n",
              "    <tr style=\"text-align: right;\">\n",
              "      <th></th>\n",
              "      <th>id</th>\n",
              "      <th>breath_id</th>\n",
              "      <th>R</th>\n",
              "      <th>C</th>\n",
              "      <th>time_step</th>\n",
              "      <th>u_in</th>\n",
              "      <th>u_out</th>\n",
              "      <th>pressure</th>\n",
              "    </tr>\n",
              "  </thead>\n",
              "  <tbody>\n",
              "    <tr>\n",
              "      <th>4828880</th>\n",
              "      <td>4828881</td>\n",
              "      <td>100617</td>\n",
              "      <td>5</td>\n",
              "      <td>10</td>\n",
              "      <td>0.000000</td>\n",
              "      <td>27.893426</td>\n",
              "      <td>0</td>\n",
              "      <td>6.118700</td>\n",
              "    </tr>\n",
              "    <tr>\n",
              "      <th>4828881</th>\n",
              "      <td>4828882</td>\n",
              "      <td>100617</td>\n",
              "      <td>5</td>\n",
              "      <td>10</td>\n",
              "      <td>0.031903</td>\n",
              "      <td>28.355812</td>\n",
              "      <td>0</td>\n",
              "      <td>7.876254</td>\n",
              "    </tr>\n",
              "    <tr>\n",
              "      <th>4828882</th>\n",
              "      <td>4828883</td>\n",
              "      <td>100617</td>\n",
              "      <td>5</td>\n",
              "      <td>10</td>\n",
              "      <td>0.063762</td>\n",
              "      <td>27.429018</td>\n",
              "      <td>0</td>\n",
              "      <td>9.493203</td>\n",
              "    </tr>\n",
              "    <tr>\n",
              "      <th>4828883</th>\n",
              "      <td>4828884</td>\n",
              "      <td>100617</td>\n",
              "      <td>5</td>\n",
              "      <td>10</td>\n",
              "      <td>0.095700</td>\n",
              "      <td>26.269003</td>\n",
              "      <td>0</td>\n",
              "      <td>11.250757</td>\n",
              "    </tr>\n",
              "    <tr>\n",
              "      <th>4828884</th>\n",
              "      <td>4828885</td>\n",
              "      <td>100617</td>\n",
              "      <td>5</td>\n",
              "      <td>10</td>\n",
              "      <td>0.128525</td>\n",
              "      <td>24.888696</td>\n",
              "      <td>0</td>\n",
              "      <td>13.148915</td>\n",
              "    </tr>\n",
              "    <tr>\n",
              "      <th>...</th>\n",
              "      <td>...</td>\n",
              "      <td>...</td>\n",
              "      <td>...</td>\n",
              "      <td>...</td>\n",
              "      <td>...</td>\n",
              "      <td>...</td>\n",
              "      <td>...</td>\n",
              "      <td>...</td>\n",
              "    </tr>\n",
              "    <tr>\n",
              "      <th>6035995</th>\n",
              "      <td>6035996</td>\n",
              "      <td>125749</td>\n",
              "      <td>50</td>\n",
              "      <td>10</td>\n",
              "      <td>2.504603</td>\n",
              "      <td>1.489714</td>\n",
              "      <td>1</td>\n",
              "      <td>3.869032</td>\n",
              "    </tr>\n",
              "    <tr>\n",
              "      <th>6035996</th>\n",
              "      <td>6035997</td>\n",
              "      <td>125749</td>\n",
              "      <td>50</td>\n",
              "      <td>10</td>\n",
              "      <td>2.537961</td>\n",
              "      <td>1.488497</td>\n",
              "      <td>1</td>\n",
              "      <td>3.869032</td>\n",
              "    </tr>\n",
              "    <tr>\n",
              "      <th>6035997</th>\n",
              "      <td>6035998</td>\n",
              "      <td>125749</td>\n",
              "      <td>50</td>\n",
              "      <td>10</td>\n",
              "      <td>2.571408</td>\n",
              "      <td>1.558978</td>\n",
              "      <td>1</td>\n",
              "      <td>3.798729</td>\n",
              "    </tr>\n",
              "    <tr>\n",
              "      <th>6035998</th>\n",
              "      <td>6035999</td>\n",
              "      <td>125749</td>\n",
              "      <td>50</td>\n",
              "      <td>10</td>\n",
              "      <td>2.604744</td>\n",
              "      <td>1.272663</td>\n",
              "      <td>1</td>\n",
              "      <td>4.079938</td>\n",
              "    </tr>\n",
              "    <tr>\n",
              "      <th>6035999</th>\n",
              "      <td>6036000</td>\n",
              "      <td>125749</td>\n",
              "      <td>50</td>\n",
              "      <td>10</td>\n",
              "      <td>2.638017</td>\n",
              "      <td>1.482739</td>\n",
              "      <td>1</td>\n",
              "      <td>3.869032</td>\n",
              "    </tr>\n",
              "  </tbody>\n",
              "</table>\n",
              "<p>1207120 rows × 8 columns</p>\n",
              "</div>"
            ],
            "text/plain": [
              "              id  breath_id   R   C  time_step       u_in  u_out   pressure\n",
              "4828880  4828881     100617   5  10   0.000000  27.893426      0   6.118700\n",
              "4828881  4828882     100617   5  10   0.031903  28.355812      0   7.876254\n",
              "4828882  4828883     100617   5  10   0.063762  27.429018      0   9.493203\n",
              "4828883  4828884     100617   5  10   0.095700  26.269003      0  11.250757\n",
              "4828884  4828885     100617   5  10   0.128525  24.888696      0  13.148915\n",
              "...          ...        ...  ..  ..        ...        ...    ...        ...\n",
              "6035995  6035996     125749  50  10   2.504603   1.489714      1   3.869032\n",
              "6035996  6035997     125749  50  10   2.537961   1.488497      1   3.869032\n",
              "6035997  6035998     125749  50  10   2.571408   1.558978      1   3.798729\n",
              "6035998  6035999     125749  50  10   2.604744   1.272663      1   4.079938\n",
              "6035999  6036000     125749  50  10   2.638017   1.482739      1   3.869032\n",
              "\n",
              "[1207120 rows x 8 columns]"
            ]
          },
          "metadata": {},
          "execution_count": 75
        }
      ]
    },
    {
      "cell_type": "code",
      "metadata": {
        "colab": {
          "base_uri": "https://localhost:8080/"
        },
        "id": "rx6kwePHd7yS",
        "outputId": "f808bb9b-eab6-4582-b96f-e7affe8b3e76"
      },
      "source": [
        "df_final['Pressure_pred']=rev_trans[:,-1]"
      ],
      "execution_count": null,
      "outputs": [
        {
          "output_type": "stream",
          "name": "stderr",
          "text": [
            "/usr/local/lib/python3.7/dist-packages/ipykernel_launcher.py:1: SettingWithCopyWarning:\n",
            "\n",
            "\n",
            "A value is trying to be set on a copy of a slice from a DataFrame.\n",
            "Try using .loc[row_indexer,col_indexer] = value instead\n",
            "\n",
            "See the caveats in the documentation: https://pandas.pydata.org/pandas-docs/stable/user_guide/indexing.html#returning-a-view-versus-a-copy\n",
            "\n"
          ]
        }
      ]
    },
    {
      "cell_type": "code",
      "metadata": {
        "colab": {
          "base_uri": "https://localhost:8080/",
          "height": 419
        },
        "id": "_1iPZUUbd71e",
        "outputId": "48d0f52c-0aeb-4a72-acaa-096dc89fd8f6"
      },
      "source": [
        "df_final"
      ],
      "execution_count": null,
      "outputs": [
        {
          "output_type": "execute_result",
          "data": {
            "text/html": [
              "<div>\n",
              "<style scoped>\n",
              "    .dataframe tbody tr th:only-of-type {\n",
              "        vertical-align: middle;\n",
              "    }\n",
              "\n",
              "    .dataframe tbody tr th {\n",
              "        vertical-align: top;\n",
              "    }\n",
              "\n",
              "    .dataframe thead th {\n",
              "        text-align: right;\n",
              "    }\n",
              "</style>\n",
              "<table border=\"1\" class=\"dataframe\">\n",
              "  <thead>\n",
              "    <tr style=\"text-align: right;\">\n",
              "      <th></th>\n",
              "      <th>id</th>\n",
              "      <th>breath_id</th>\n",
              "      <th>R</th>\n",
              "      <th>C</th>\n",
              "      <th>time_step</th>\n",
              "      <th>u_in</th>\n",
              "      <th>u_out</th>\n",
              "      <th>pressure</th>\n",
              "      <th>Pressure_pred</th>\n",
              "    </tr>\n",
              "  </thead>\n",
              "  <tbody>\n",
              "    <tr>\n",
              "      <th>4828880</th>\n",
              "      <td>4828881</td>\n",
              "      <td>100617</td>\n",
              "      <td>5</td>\n",
              "      <td>10</td>\n",
              "      <td>0.000000</td>\n",
              "      <td>27.893426</td>\n",
              "      <td>0</td>\n",
              "      <td>6.118700</td>\n",
              "      <td>4.961913</td>\n",
              "    </tr>\n",
              "    <tr>\n",
              "      <th>4828881</th>\n",
              "      <td>4828882</td>\n",
              "      <td>100617</td>\n",
              "      <td>5</td>\n",
              "      <td>10</td>\n",
              "      <td>0.031903</td>\n",
              "      <td>28.355812</td>\n",
              "      <td>0</td>\n",
              "      <td>7.876254</td>\n",
              "      <td>7.138194</td>\n",
              "    </tr>\n",
              "    <tr>\n",
              "      <th>4828882</th>\n",
              "      <td>4828883</td>\n",
              "      <td>100617</td>\n",
              "      <td>5</td>\n",
              "      <td>10</td>\n",
              "      <td>0.063762</td>\n",
              "      <td>27.429018</td>\n",
              "      <td>0</td>\n",
              "      <td>9.493203</td>\n",
              "      <td>8.698792</td>\n",
              "    </tr>\n",
              "    <tr>\n",
              "      <th>4828883</th>\n",
              "      <td>4828884</td>\n",
              "      <td>100617</td>\n",
              "      <td>5</td>\n",
              "      <td>10</td>\n",
              "      <td>0.095700</td>\n",
              "      <td>26.269003</td>\n",
              "      <td>0</td>\n",
              "      <td>11.250757</td>\n",
              "      <td>10.546460</td>\n",
              "    </tr>\n",
              "    <tr>\n",
              "      <th>4828884</th>\n",
              "      <td>4828885</td>\n",
              "      <td>100617</td>\n",
              "      <td>5</td>\n",
              "      <td>10</td>\n",
              "      <td>0.128525</td>\n",
              "      <td>24.888696</td>\n",
              "      <td>0</td>\n",
              "      <td>13.148915</td>\n",
              "      <td>12.378305</td>\n",
              "    </tr>\n",
              "    <tr>\n",
              "      <th>...</th>\n",
              "      <td>...</td>\n",
              "      <td>...</td>\n",
              "      <td>...</td>\n",
              "      <td>...</td>\n",
              "      <td>...</td>\n",
              "      <td>...</td>\n",
              "      <td>...</td>\n",
              "      <td>...</td>\n",
              "      <td>...</td>\n",
              "    </tr>\n",
              "    <tr>\n",
              "      <th>6035995</th>\n",
              "      <td>6035996</td>\n",
              "      <td>125749</td>\n",
              "      <td>50</td>\n",
              "      <td>10</td>\n",
              "      <td>2.504603</td>\n",
              "      <td>1.489714</td>\n",
              "      <td>1</td>\n",
              "      <td>3.869032</td>\n",
              "      <td>5.288497</td>\n",
              "    </tr>\n",
              "    <tr>\n",
              "      <th>6035996</th>\n",
              "      <td>6035997</td>\n",
              "      <td>125749</td>\n",
              "      <td>50</td>\n",
              "      <td>10</td>\n",
              "      <td>2.537961</td>\n",
              "      <td>1.488497</td>\n",
              "      <td>1</td>\n",
              "      <td>3.869032</td>\n",
              "      <td>5.256998</td>\n",
              "    </tr>\n",
              "    <tr>\n",
              "      <th>6035997</th>\n",
              "      <td>6035998</td>\n",
              "      <td>125749</td>\n",
              "      <td>50</td>\n",
              "      <td>10</td>\n",
              "      <td>2.571408</td>\n",
              "      <td>1.558978</td>\n",
              "      <td>1</td>\n",
              "      <td>3.798729</td>\n",
              "      <td>5.234053</td>\n",
              "    </tr>\n",
              "    <tr>\n",
              "      <th>6035998</th>\n",
              "      <td>6035999</td>\n",
              "      <td>125749</td>\n",
              "      <td>50</td>\n",
              "      <td>10</td>\n",
              "      <td>2.604744</td>\n",
              "      <td>1.272663</td>\n",
              "      <td>1</td>\n",
              "      <td>4.079938</td>\n",
              "      <td>5.200531</td>\n",
              "    </tr>\n",
              "    <tr>\n",
              "      <th>6035999</th>\n",
              "      <td>6036000</td>\n",
              "      <td>125749</td>\n",
              "      <td>50</td>\n",
              "      <td>10</td>\n",
              "      <td>2.638017</td>\n",
              "      <td>1.482739</td>\n",
              "      <td>1</td>\n",
              "      <td>3.869032</td>\n",
              "      <td>5.239744</td>\n",
              "    </tr>\n",
              "  </tbody>\n",
              "</table>\n",
              "<p>1207120 rows × 9 columns</p>\n",
              "</div>"
            ],
            "text/plain": [
              "              id  breath_id   R   C  ...       u_in  u_out   pressure  Pressure_pred\n",
              "4828880  4828881     100617   5  10  ...  27.893426      0   6.118700       4.961913\n",
              "4828881  4828882     100617   5  10  ...  28.355812      0   7.876254       7.138194\n",
              "4828882  4828883     100617   5  10  ...  27.429018      0   9.493203       8.698792\n",
              "4828883  4828884     100617   5  10  ...  26.269003      0  11.250757      10.546460\n",
              "4828884  4828885     100617   5  10  ...  24.888696      0  13.148915      12.378305\n",
              "...          ...        ...  ..  ..  ...        ...    ...        ...            ...\n",
              "6035995  6035996     125749  50  10  ...   1.489714      1   3.869032       5.288497\n",
              "6035996  6035997     125749  50  10  ...   1.488497      1   3.869032       5.256998\n",
              "6035997  6035998     125749  50  10  ...   1.558978      1   3.798729       5.234053\n",
              "6035998  6035999     125749  50  10  ...   1.272663      1   4.079938       5.200531\n",
              "6035999  6036000     125749  50  10  ...   1.482739      1   3.869032       5.239744\n",
              "\n",
              "[1207120 rows x 9 columns]"
            ]
          },
          "metadata": {},
          "execution_count": 77
        }
      ]
    },
    {
      "cell_type": "code",
      "metadata": {
        "colab": {
          "base_uri": "https://localhost:8080/",
          "height": 283
        },
        "id": "Cbp79lX0d74U",
        "outputId": "9fa3d82f-3654-4663-e0f6-89e7dd7c1934"
      },
      "source": [
        "df_final[['pressure','Pressure_pred']].boxplot()"
      ],
      "execution_count": null,
      "outputs": [
        {
          "output_type": "execute_result",
          "data": {
            "text/plain": [
              "<matplotlib.axes._subplots.AxesSubplot at 0x7f689de50610>"
            ]
          },
          "metadata": {},
          "execution_count": 80
        },
        {
          "output_type": "display_data",
          "data": {
            "image/png": "[encoded data removed]",
            "text/plain": [
              "<Figure size 432x288 with 1 Axes>"
            ]
          },
          "metadata": {}
        }
      ]
    },
    {
      "cell_type": "code",
      "metadata": {
        "colab": {
          "base_uri": "https://localhost:8080/",
          "height": 297
        },
        "id": "S6kFITrM0rnS",
        "outputId": "84aabd90-81d3-4d82-b7a0-afebb00b9710"
      },
      "source": [
        "df_final.describe()"
      ],
      "execution_count": null,
      "outputs": [
        {
          "output_type": "execute_result",
          "data": {
            "text/html": [
              "<div>\n",
              "<style scoped>\n",
              "    .dataframe tbody tr th:only-of-type {\n",
              "        vertical-align: middle;\n",
              "    }\n",
              "\n",
              "    .dataframe tbody tr th {\n",
              "        vertical-align: top;\n",
              "    }\n",
              "\n",
              "    .dataframe thead th {\n",
              "        text-align: right;\n",
              "    }\n",
              "</style>\n",
              "<table border=\"1\" class=\"dataframe\">\n",
              "  <thead>\n",
              "    <tr style=\"text-align: right;\">\n",
              "      <th></th>\n",
              "      <th>id</th>\n",
              "      <th>breath_id</th>\n",
              "      <th>R</th>\n",
              "      <th>C</th>\n",
              "      <th>time_step</th>\n",
              "      <th>u_in</th>\n",
              "      <th>u_out</th>\n",
              "      <th>pressure</th>\n",
              "      <th>Pressure_pred</th>\n",
              "    </tr>\n",
              "  </thead>\n",
              "  <tbody>\n",
              "    <tr>\n",
              "      <th>count</th>\n",
              "      <td>1.207120e+06</td>\n",
              "      <td>1.207120e+06</td>\n",
              "      <td>1.207120e+06</td>\n",
              "      <td>1.207120e+06</td>\n",
              "      <td>1.207120e+06</td>\n",
              "      <td>1.207120e+06</td>\n",
              "      <td>1.207120e+06</td>\n",
              "      <td>1.207120e+06</td>\n",
              "      <td>1.207120e+06</td>\n",
              "    </tr>\n",
              "    <tr>\n",
              "      <th>mean</th>\n",
              "      <td>5.432440e+06</td>\n",
              "      <td>1.131703e+05</td>\n",
              "      <td>2.699649e+01</td>\n",
              "      <td>2.634635e+01</td>\n",
              "      <td>1.307101e+00</td>\n",
              "      <td>7.321864e+00</td>\n",
              "      <td>6.203874e-01</td>\n",
              "      <td>1.121980e+01</td>\n",
              "      <td>1.135985e+01</td>\n",
              "    </tr>\n",
              "    <tr>\n",
              "      <th>std</th>\n",
              "      <td>3.484657e+05</td>\n",
              "      <td>7.258938e+03</td>\n",
              "      <td>1.955455e+01</td>\n",
              "      <td>1.720375e+01</td>\n",
              "      <td>7.659118e-01</td>\n",
              "      <td>1.340373e+01</td>\n",
              "      <td>4.852907e-01</td>\n",
              "      <td>8.112974e+00</td>\n",
              "      <td>7.284823e+00</td>\n",
              "    </tr>\n",
              "    <tr>\n",
              "      <th>min</th>\n",
              "      <td>4.828881e+06</td>\n",
              "      <td>1.006170e+05</td>\n",
              "      <td>5.000000e+00</td>\n",
              "      <td>1.000000e+01</td>\n",
              "      <td>0.000000e+00</td>\n",
              "      <td>0.000000e+00</td>\n",
              "      <td>0.000000e+00</td>\n",
              "      <td>-1.895744e+00</td>\n",
              "      <td>-4.406874e-01</td>\n",
              "    </tr>\n",
              "    <tr>\n",
              "      <th>25%</th>\n",
              "      <td>5.130661e+06</td>\n",
              "      <td>1.068940e+05</td>\n",
              "      <td>5.000000e+00</td>\n",
              "      <td>1.000000e+01</td>\n",
              "      <td>6.428680e-01</td>\n",
              "      <td>3.833389e-01</td>\n",
              "      <td>0.000000e+00</td>\n",
              "      <td>6.329607e+00</td>\n",
              "      <td>6.919769e+00</td>\n",
              "    </tr>\n",
              "    <tr>\n",
              "      <th>50%</th>\n",
              "      <td>5.432440e+06</td>\n",
              "      <td>1.131810e+05</td>\n",
              "      <td>2.000000e+01</td>\n",
              "      <td>2.000000e+01</td>\n",
              "      <td>1.308057e+00</td>\n",
              "      <td>4.397409e+00</td>\n",
              "      <td>1.000000e+00</td>\n",
              "      <td>7.032628e+00</td>\n",
              "      <td>7.543601e+00</td>\n",
              "    </tr>\n",
              "    <tr>\n",
              "      <th>75%</th>\n",
              "      <td>5.734220e+06</td>\n",
              "      <td>1.194560e+05</td>\n",
              "      <td>5.000000e+01</td>\n",
              "      <td>5.000000e+01</td>\n",
              "      <td>1.965396e+00</td>\n",
              "      <td>4.984098e+00</td>\n",
              "      <td>1.000000e+00</td>\n",
              "      <td>1.364103e+01</td>\n",
              "      <td>1.351070e+01</td>\n",
              "    </tr>\n",
              "    <tr>\n",
              "      <th>max</th>\n",
              "      <td>6.036000e+06</td>\n",
              "      <td>1.257490e+05</td>\n",
              "      <td>5.000000e+01</td>\n",
              "      <td>5.000000e+01</td>\n",
              "      <td>2.928005e+00</td>\n",
              "      <td>1.000000e+02</td>\n",
              "      <td>1.000000e+00</td>\n",
              "      <td>6.482099e+01</td>\n",
              "      <td>5.894410e+01</td>\n",
              "    </tr>\n",
              "  </tbody>\n",
              "</table>\n",
              "</div>"
            ],
            "text/plain": [
              "                 id     breath_id  ...      pressure  Pressure_pred\n",
              "count  1.207120e+06  1.207120e+06  ...  1.207120e+06   1.207120e+06\n",
              "mean   5.432440e+06  1.131703e+05  ...  1.121980e+01   1.135985e+01\n",
              "std    3.484657e+05  7.258938e+03  ...  8.112974e+00   7.284823e+00\n",
              "min    4.828881e+06  1.006170e+05  ... -1.895744e+00  -4.406874e-01\n",
              "25%    5.130661e+06  1.068940e+05  ...  6.329607e+00   6.919769e+00\n",
              "50%    5.432440e+06  1.131810e+05  ...  7.032628e+00   7.543601e+00\n",
              "75%    5.734220e+06  1.194560e+05  ...  1.364103e+01   1.351070e+01\n",
              "max    6.036000e+06  1.257490e+05  ...  6.482099e+01   5.894410e+01\n",
              "\n",
              "[8 rows x 9 columns]"
            ]
          },
          "metadata": {},
          "execution_count": 81
        }
      ]
    },
    {
      "cell_type": "code",
      "metadata": {
        "id": "3jWpUIHmkruB"
      },
      "source": [
        "######################## predicted within the original \"train\" data. Should rename the \"test\" data as \"validation\" data. As we have another set of test data provided in the competition.\n",
        "######################## Prediction of actual test data needs to be completed before submitting. Also, need to relook at parameters & no. of layers to improve model accuracy."
      ],
      "execution_count": null,
      "outputs": []
    },
    {
      "cell_type": "code",
      "metadata": {
        "id": "OHHAxAca0ImI"
      },
      "source": [
        ""
      ],
      "execution_count": null,
      "outputs": []
    },
    {
      "cell_type": "code",
      "metadata": {
        "id": "0VZllcLH0Ipp"
      },
      "source": [
        "################################# Below code is work in progress ###################################"
      ],
      "execution_count": null,
      "outputs": []
    },
    {
      "cell_type": "code",
      "metadata": {
        "id": "Mkai25no0IsL"
      },
      "source": [
        ""
      ],
      "execution_count": null,
      "outputs": []
    },
    {
      "cell_type": "code",
      "metadata": {
        "id": "SRv6FVHX0Ivf"
      },
      "source": [
        ""
      ],
      "execution_count": null,
      "outputs": []
    },
    {
      "cell_type": "code",
      "metadata": {
        "id": "JdDppUTM0Iyu"
      },
      "source": [
        ""
      ],
      "execution_count": null,
      "outputs": []
    },
    {
      "cell_type": "code",
      "metadata": {
        "id": "oMKjz4GQ0I1h"
      },
      "source": [
        ""
      ],
      "execution_count": null,
      "outputs": []
    },
    {
      "cell_type": "code",
      "metadata": {
        "id": "rzOGPCGY0I4t"
      },
      "source": [
        ""
      ],
      "execution_count": null,
      "outputs": []
    },
    {
      "cell_type": "code",
      "metadata": {
        "id": "Ew88EELt0I66"
      },
      "source": [
        ""
      ],
      "execution_count": null,
      "outputs": []
    },
    {
      "cell_type": "code",
      "metadata": {
        "id": "x00OI6i20I-J"
      },
      "source": [
        ""
      ],
      "execution_count": null,
      "outputs": []
    },
    {
      "cell_type": "code",
      "metadata": {
        "colab": {
          "base_uri": "https://localhost:8080/"
        },
        "id": "DqLB1PXJo5Xa",
        "outputId": "633890bf-aa07-4aa0-e5bc-d0404114a8b3"
      },
      "source": [
        "#There are 75450 unique breath IDs and for each breath ID there are 80 samples/rows of data\n",
        "len(train['breath_id'].unique())"
      ],
      "execution_count": null,
      "outputs": [
        {
          "output_type": "execute_result",
          "data": {
            "text/plain": [
              "75450"
            ]
          },
          "metadata": {},
          "execution_count": 102
        }
      ]
    },
    {
      "cell_type": "code",
      "metadata": {
        "id": "a1T4t6quo5az"
      },
      "source": [
        "#No. of entries per breath_id (we see from the samples that it is 80 rows per breath ID)\n",
        "per_breath_id=80"
      ],
      "execution_count": null,
      "outputs": []
    },
    {
      "cell_type": "code",
      "metadata": {
        "id": "2lu1svrzo5iF"
      },
      "source": [
        "#Number of breaths for which pressure needs to be predicted.... We will consider this as one (pressure to be predicted for one breath)\n",
        "predict_duration=1"
      ],
      "execution_count": null,
      "outputs": []
    },
    {
      "cell_type": "code",
      "metadata": {
        "id": "QTsuXEc1o5lL"
      },
      "source": [
        ""
      ],
      "execution_count": null,
      "outputs": []
    },
    {
      "cell_type": "code",
      "metadata": {
        "id": "mTYfQPs-o5oQ"
      },
      "source": [
        ""
      ],
      "execution_count": null,
      "outputs": []
    },
    {
      "cell_type": "code",
      "metadata": {
        "id": "7yN_cLLenrDs"
      },
      "source": [
        ""
      ],
      "execution_count": null,
      "outputs": []
    },
    {
      "cell_type": "code",
      "metadata": {
        "id": "sCa7UvUfmkvK"
      },
      "source": [
        "#Train, Validation split"
      ],
      "execution_count": null,
      "outputs": []
    },
    {
      "cell_type": "code",
      "metadata": {
        "id": "3-AA4wGWmkyD"
      },
      "source": [
        ""
      ],
      "execution_count": null,
      "outputs": []
    },
    {
      "cell_type": "code",
      "metadata": {
        "id": "MjyV7rMDmk1Q"
      },
      "source": [
        ""
      ],
      "execution_count": null,
      "outputs": []
    },
    {
      "cell_type": "code",
      "metadata": {
        "id": "OwAmY8ePmk4g"
      },
      "source": [
        "#Total rows to be predicted\n",
        "predict_pressure_for=per_breath_id*predict_duration"
      ],
      "execution_count": null,
      "outputs": []
    },
    {
      "cell_type": "code",
      "metadata": {
        "id": "o3S6mj1Amk7b"
      },
      "source": [
        ""
      ],
      "execution_count": null,
      "outputs": []
    },
    {
      "cell_type": "code",
      "metadata": {
        "id": "va6Nvfwwmk-d"
      },
      "source": [
        ""
      ],
      "execution_count": null,
      "outputs": []
    },
    {
      "cell_type": "code",
      "metadata": {
        "id": "xeG0kZkomlBn"
      },
      "source": [
        ""
      ],
      "execution_count": null,
      "outputs": []
    },
    {
      "cell_type": "code",
      "metadata": {
        "id": "_7grFh3JmlET"
      },
      "source": [
        ""
      ],
      "execution_count": null,
      "outputs": []
    },
    {
      "cell_type": "code",
      "metadata": {
        "id": "Oep_VTwdmlHK"
      },
      "source": [
        ""
      ],
      "execution_count": null,
      "outputs": []
    },
    {
      "cell_type": "code",
      "metadata": {
        "id": "1qC0Mz6BmlJ-"
      },
      "source": [
        ""
      ],
      "execution_count": null,
      "outputs": []
    },
    {
      "cell_type": "code",
      "metadata": {
        "id": "F7Aws_QEmlM8"
      },
      "source": [
        ""
      ],
      "execution_count": null,
      "outputs": []
    },
    {
      "cell_type": "code",
      "metadata": {
        "id": "sYugYITkmlQE"
      },
      "source": [
        ""
      ],
      "execution_count": null,
      "outputs": []
    },
    {
      "cell_type": "code",
      "metadata": {
        "id": "TqF6tnlqmlTH"
      },
      "source": [
        ""
      ],
      "execution_count": null,
      "outputs": []
    },
    {
      "cell_type": "code",
      "metadata": {
        "id": "gk37xSVPmlVq"
      },
      "source": [
        ""
      ],
      "execution_count": null,
      "outputs": []
    },
    {
      "cell_type": "code",
      "metadata": {
        "id": "oGlOTeVSkr0X"
      },
      "source": [
        "tempdf=train[train['breath_id']<5]"
      ],
      "execution_count": null,
      "outputs": []
    },
    {
      "cell_type": "code",
      "metadata": {
        "colab": {
          "base_uri": "https://localhost:8080/",
          "height": 419
        },
        "id": "4syLlf58krxT",
        "outputId": "eaa3ff85-fa45-4dff-9dac-13095a807a75"
      },
      "source": [
        "tempdf"
      ],
      "execution_count": null,
      "outputs": [
        {
          "output_type": "execute_result",
          "data": {
            "text/html": [
              "<div>\n",
              "<style scoped>\n",
              "    .dataframe tbody tr th:only-of-type {\n",
              "        vertical-align: middle;\n",
              "    }\n",
              "\n",
              "    .dataframe tbody tr th {\n",
              "        vertical-align: top;\n",
              "    }\n",
              "\n",
              "    .dataframe thead th {\n",
              "        text-align: right;\n",
              "    }\n",
              "</style>\n",
              "<table border=\"1\" class=\"dataframe\">\n",
              "  <thead>\n",
              "    <tr style=\"text-align: right;\">\n",
              "      <th></th>\n",
              "      <th>id</th>\n",
              "      <th>breath_id</th>\n",
              "      <th>R</th>\n",
              "      <th>C</th>\n",
              "      <th>time_step</th>\n",
              "      <th>u_in</th>\n",
              "      <th>u_out</th>\n",
              "      <th>pressure</th>\n",
              "    </tr>\n",
              "  </thead>\n",
              "  <tbody>\n",
              "    <tr>\n",
              "      <th>0</th>\n",
              "      <td>1</td>\n",
              "      <td>1</td>\n",
              "      <td>20</td>\n",
              "      <td>50</td>\n",
              "      <td>0.000000</td>\n",
              "      <td>0.083334</td>\n",
              "      <td>0</td>\n",
              "      <td>5.837492</td>\n",
              "    </tr>\n",
              "    <tr>\n",
              "      <th>1</th>\n",
              "      <td>2</td>\n",
              "      <td>1</td>\n",
              "      <td>20</td>\n",
              "      <td>50</td>\n",
              "      <td>0.033652</td>\n",
              "      <td>18.383041</td>\n",
              "      <td>0</td>\n",
              "      <td>5.907794</td>\n",
              "    </tr>\n",
              "    <tr>\n",
              "      <th>2</th>\n",
              "      <td>3</td>\n",
              "      <td>1</td>\n",
              "      <td>20</td>\n",
              "      <td>50</td>\n",
              "      <td>0.067514</td>\n",
              "      <td>22.509278</td>\n",
              "      <td>0</td>\n",
              "      <td>7.876254</td>\n",
              "    </tr>\n",
              "    <tr>\n",
              "      <th>3</th>\n",
              "      <td>4</td>\n",
              "      <td>1</td>\n",
              "      <td>20</td>\n",
              "      <td>50</td>\n",
              "      <td>0.101542</td>\n",
              "      <td>22.808822</td>\n",
              "      <td>0</td>\n",
              "      <td>11.742872</td>\n",
              "    </tr>\n",
              "    <tr>\n",
              "      <th>4</th>\n",
              "      <td>5</td>\n",
              "      <td>1</td>\n",
              "      <td>20</td>\n",
              "      <td>50</td>\n",
              "      <td>0.135756</td>\n",
              "      <td>25.355850</td>\n",
              "      <td>0</td>\n",
              "      <td>12.234987</td>\n",
              "    </tr>\n",
              "    <tr>\n",
              "      <th>...</th>\n",
              "      <td>...</td>\n",
              "      <td>...</td>\n",
              "      <td>...</td>\n",
              "      <td>...</td>\n",
              "      <td>...</td>\n",
              "      <td>...</td>\n",
              "      <td>...</td>\n",
              "      <td>...</td>\n",
              "    </tr>\n",
              "    <tr>\n",
              "      <th>315</th>\n",
              "      <td>316</td>\n",
              "      <td>4</td>\n",
              "      <td>50</td>\n",
              "      <td>50</td>\n",
              "      <td>2.400609</td>\n",
              "      <td>4.946119</td>\n",
              "      <td>1</td>\n",
              "      <td>7.032628</td>\n",
              "    </tr>\n",
              "    <tr>\n",
              "      <th>316</th>\n",
              "      <td>317</td>\n",
              "      <td>4</td>\n",
              "      <td>50</td>\n",
              "      <td>50</td>\n",
              "      <td>2.432266</td>\n",
              "      <td>4.954007</td>\n",
              "      <td>1</td>\n",
              "      <td>6.540513</td>\n",
              "    </tr>\n",
              "    <tr>\n",
              "      <th>317</th>\n",
              "      <td>318</td>\n",
              "      <td>4</td>\n",
              "      <td>50</td>\n",
              "      <td>50</td>\n",
              "      <td>2.464062</td>\n",
              "      <td>4.960767</td>\n",
              "      <td>1</td>\n",
              "      <td>6.399909</td>\n",
              "    </tr>\n",
              "    <tr>\n",
              "      <th>318</th>\n",
              "      <td>319</td>\n",
              "      <td>4</td>\n",
              "      <td>50</td>\n",
              "      <td>50</td>\n",
              "      <td>2.495845</td>\n",
              "      <td>4.966532</td>\n",
              "      <td>1</td>\n",
              "      <td>6.962326</td>\n",
              "    </tr>\n",
              "    <tr>\n",
              "      <th>319</th>\n",
              "      <td>320</td>\n",
              "      <td>4</td>\n",
              "      <td>50</td>\n",
              "      <td>50</td>\n",
              "      <td>2.528579</td>\n",
              "      <td>4.971585</td>\n",
              "      <td>1</td>\n",
              "      <td>6.329607</td>\n",
              "    </tr>\n",
              "  </tbody>\n",
              "</table>\n",
              "<p>320 rows × 8 columns</p>\n",
              "</div>"
            ],
            "text/plain": [
              "      id  breath_id   R   C  time_step       u_in  u_out   pressure\n",
              "0      1          1  20  50   0.000000   0.083334      0   5.837492\n",
              "1      2          1  20  50   0.033652  18.383041      0   5.907794\n",
              "2      3          1  20  50   0.067514  22.509278      0   7.876254\n",
              "3      4          1  20  50   0.101542  22.808822      0  11.742872\n",
              "4      5          1  20  50   0.135756  25.355850      0  12.234987\n",
              "..   ...        ...  ..  ..        ...        ...    ...        ...\n",
              "315  316          4  50  50   2.400609   4.946119      1   7.032628\n",
              "316  317          4  50  50   2.432266   4.954007      1   6.540513\n",
              "317  318          4  50  50   2.464062   4.960767      1   6.399909\n",
              "318  319          4  50  50   2.495845   4.966532      1   6.962326\n",
              "319  320          4  50  50   2.528579   4.971585      1   6.329607\n",
              "\n",
              "[320 rows x 8 columns]"
            ]
          },
          "metadata": {},
          "execution_count": 26
        }
      ]
    },
    {
      "cell_type": "code",
      "metadata": {
        "id": "wGe03V7Ckr3R"
      },
      "source": [
        ""
      ],
      "execution_count": null,
      "outputs": []
    },
    {
      "cell_type": "code",
      "metadata": {
        "id": "0DW2gIFpkr6Y"
      },
      "source": [
        "# importing libraries\n",
        "import numpy as np\n",
        "import time\n",
        "import matplotlib.pyplot as plt"
      ],
      "execution_count": null,
      "outputs": []
    },
    {
      "cell_type": "code",
      "metadata": {
        "id": "Nwq47toLkr9Y"
      },
      "source": [
        ""
      ],
      "execution_count": null,
      "outputs": []
    },
    {
      "cell_type": "code",
      "metadata": {
        "id": "-yTsdB4cksAb"
      },
      "source": [
        ""
      ],
      "execution_count": null,
      "outputs": []
    },
    {
      "cell_type": "code",
      "metadata": {
        "id": "8EJ6Z0fTksDX"
      },
      "source": [
        ""
      ],
      "execution_count": null,
      "outputs": []
    },
    {
      "cell_type": "code",
      "metadata": {
        "id": "6Xsrcul_ksGo"
      },
      "source": [
        ""
      ],
      "execution_count": null,
      "outputs": []
    },
    {
      "cell_type": "code",
      "metadata": {
        "id": "ZB_hZsRtksJf"
      },
      "source": [
        ""
      ],
      "execution_count": null,
      "outputs": []
    },
    {
      "cell_type": "code",
      "metadata": {
        "id": "fc-0ZcyqksMp"
      },
      "source": [
        ""
      ],
      "execution_count": null,
      "outputs": []
    },
    {
      "cell_type": "code",
      "metadata": {
        "id": "SPKDYb2LksQA"
      },
      "source": [
        ""
      ],
      "execution_count": null,
      "outputs": []
    },
    {
      "cell_type": "code",
      "metadata": {
        "id": "cwQ-1daAksTJ"
      },
      "source": [
        ""
      ],
      "execution_count": null,
      "outputs": []
    },
    {
      "cell_type": "code",
      "metadata": {
        "id": "PZGSkWTiksWl"
      },
      "source": [
        ""
      ],
      "execution_count": null,
      "outputs": []
    },
    {
      "cell_type": "code",
      "metadata": {
        "id": "AWyAOC5vksZw"
      },
      "source": [
        ""
      ],
      "execution_count": null,
      "outputs": []
    },
    {
      "cell_type": "code",
      "metadata": {
        "id": "vxIRdT93ksdB"
      },
      "source": [
        ""
      ],
      "execution_count": null,
      "outputs": []
    },
    {
      "cell_type": "code",
      "metadata": {
        "id": "1NGEQV-cksgh"
      },
      "source": [
        ""
      ],
      "execution_count": null,
      "outputs": []
    },
    {
      "cell_type": "code",
      "metadata": {
        "id": "rFGSkzBZksjt"
      },
      "source": [
        ""
      ],
      "execution_count": null,
      "outputs": []
    },
    {
      "cell_type": "code",
      "metadata": {
        "id": "f12BlIXDksnA"
      },
      "source": [
        ""
      ],
      "execution_count": null,
      "outputs": []
    },
    {
      "cell_type": "code",
      "metadata": {
        "id": "Ox_vGOTAksqD"
      },
      "source": [
        ""
      ],
      "execution_count": null,
      "outputs": []
    },
    {
      "cell_type": "code",
      "metadata": {
        "id": "sTsHepmCkstO"
      },
      "source": [
        ""
      ],
      "execution_count": null,
      "outputs": []
    },
    {
      "cell_type": "code",
      "metadata": {
        "id": "YADfPAm93iGn"
      },
      "source": [
        ""
      ],
      "execution_count": null,
      "outputs": []
    },
    {
      "cell_type": "code",
      "metadata": {
        "id": "-oL9H6D97p-s"
      },
      "source": [
        ""
      ],
      "execution_count": null,
      "outputs": []
    },
    {
      "cell_type": "code",
      "metadata": {
        "id": "3uBl3J4F8YRw"
      },
      "source": [
        "def series_to_supervised(data, n_in=1, n_out=1, dropnan=True): # n_in - timesteps in past,n_out - future timestep\n",
        "    n_vars = 1 if type(data) is list else data.shape[1]\n",
        "    df = pd.DataFrame(data)\n",
        "    cols, names = list(), list()\n",
        "    \n",
        "    # input sequence (t-n, ... t-1)\n",
        "    for i in range(n_in, 0, -1):\n",
        "        cols.append(df.shift(i))\n",
        "        names += [('var%d(t-%d)' % (j+1, i)) for j in range(n_vars)]\n",
        "    \n",
        "    # forecast sequence (t, t+1, ... t+n)\n",
        "    for i in range(0, n_out):\n",
        "        cols.append(df.shift(-i))\n",
        "        if i == 0:\n",
        "            names += [('var%d(t)' % (j+1)) for j in range(n_vars)]\n",
        "        else:\n",
        "            names += [('var%d(t+%d)' % (j+1, i)) for j in range(n_vars)]\n",
        "    \n",
        "    # put it all together\n",
        "    agg = pd.concat(cols, axis=1)\n",
        "    agg.columns = names\n",
        "    \n",
        "    # drop rows with NaN values\n",
        "    if dropnan:\n",
        "        agg.dropna(inplace=True)\n",
        "    return agg"
      ],
      "execution_count": null,
      "outputs": []
    },
    {
      "cell_type": "code",
      "metadata": {
        "id": "IGxwsfuIZj1k"
      },
      "source": [
        "reframed2 = series_to_supervised(train, 1, 2)"
      ],
      "execution_count": null,
      "outputs": []
    },
    {
      "cell_type": "code",
      "metadata": {
        "colab": {
          "base_uri": "https://localhost:8080/",
          "height": 461
        },
        "id": "CRJEVxr1Zkmy",
        "outputId": "5f07d490-835c-4405-9788-c62d3bb1bc08"
      },
      "source": [
        "reframed2"
      ],
      "execution_count": null,
      "outputs": [
        {
          "output_type": "execute_result",
          "data": {
            "text/html": [
              "<div>\n",
              "<style scoped>\n",
              "    .dataframe tbody tr th:only-of-type {\n",
              "        vertical-align: middle;\n",
              "    }\n",
              "\n",
              "    .dataframe tbody tr th {\n",
              "        vertical-align: top;\n",
              "    }\n",
              "\n",
              "    .dataframe thead th {\n",
              "        text-align: right;\n",
              "    }\n",
              "</style>\n",
              "<table border=\"1\" class=\"dataframe\">\n",
              "  <thead>\n",
              "    <tr style=\"text-align: right;\">\n",
              "      <th></th>\n",
              "      <th>var1(t-1)</th>\n",
              "      <th>var2(t-1)</th>\n",
              "      <th>var3(t-1)</th>\n",
              "      <th>var4(t-1)</th>\n",
              "      <th>var5(t-1)</th>\n",
              "      <th>var6(t-1)</th>\n",
              "      <th>var7(t-1)</th>\n",
              "      <th>var8(t-1)</th>\n",
              "      <th>var1(t)</th>\n",
              "      <th>var2(t)</th>\n",
              "      <th>var3(t)</th>\n",
              "      <th>var4(t)</th>\n",
              "      <th>var5(t)</th>\n",
              "      <th>var6(t)</th>\n",
              "      <th>var7(t)</th>\n",
              "      <th>var8(t)</th>\n",
              "      <th>var1(t+1)</th>\n",
              "      <th>var2(t+1)</th>\n",
              "      <th>var3(t+1)</th>\n",
              "      <th>var4(t+1)</th>\n",
              "      <th>var5(t+1)</th>\n",
              "      <th>var6(t+1)</th>\n",
              "      <th>var7(t+1)</th>\n",
              "      <th>var8(t+1)</th>\n",
              "    </tr>\n",
              "  </thead>\n",
              "  <tbody>\n",
              "    <tr>\n",
              "      <th>1</th>\n",
              "      <td>1.0</td>\n",
              "      <td>1.0</td>\n",
              "      <td>20.0</td>\n",
              "      <td>50.0</td>\n",
              "      <td>0.000000</td>\n",
              "      <td>0.083334</td>\n",
              "      <td>0.0</td>\n",
              "      <td>5.837492</td>\n",
              "      <td>2</td>\n",
              "      <td>1</td>\n",
              "      <td>20</td>\n",
              "      <td>50</td>\n",
              "      <td>0.033652</td>\n",
              "      <td>18.383041</td>\n",
              "      <td>0</td>\n",
              "      <td>5.907794</td>\n",
              "      <td>3.0</td>\n",
              "      <td>1.0</td>\n",
              "      <td>20.0</td>\n",
              "      <td>50.0</td>\n",
              "      <td>0.067514</td>\n",
              "      <td>22.509278</td>\n",
              "      <td>0.0</td>\n",
              "      <td>7.876254</td>\n",
              "    </tr>\n",
              "    <tr>\n",
              "      <th>2</th>\n",
              "      <td>2.0</td>\n",
              "      <td>1.0</td>\n",
              "      <td>20.0</td>\n",
              "      <td>50.0</td>\n",
              "      <td>0.033652</td>\n",
              "      <td>18.383041</td>\n",
              "      <td>0.0</td>\n",
              "      <td>5.907794</td>\n",
              "      <td>3</td>\n",
              "      <td>1</td>\n",
              "      <td>20</td>\n",
              "      <td>50</td>\n",
              "      <td>0.067514</td>\n",
              "      <td>22.509278</td>\n",
              "      <td>0</td>\n",
              "      <td>7.876254</td>\n",
              "      <td>4.0</td>\n",
              "      <td>1.0</td>\n",
              "      <td>20.0</td>\n",
              "      <td>50.0</td>\n",
              "      <td>0.101542</td>\n",
              "      <td>22.808822</td>\n",
              "      <td>0.0</td>\n",
              "      <td>11.742872</td>\n",
              "    </tr>\n",
              "    <tr>\n",
              "      <th>3</th>\n",
              "      <td>3.0</td>\n",
              "      <td>1.0</td>\n",
              "      <td>20.0</td>\n",
              "      <td>50.0</td>\n",
              "      <td>0.067514</td>\n",
              "      <td>22.509278</td>\n",
              "      <td>0.0</td>\n",
              "      <td>7.876254</td>\n",
              "      <td>4</td>\n",
              "      <td>1</td>\n",
              "      <td>20</td>\n",
              "      <td>50</td>\n",
              "      <td>0.101542</td>\n",
              "      <td>22.808822</td>\n",
              "      <td>0</td>\n",
              "      <td>11.742872</td>\n",
              "      <td>5.0</td>\n",
              "      <td>1.0</td>\n",
              "      <td>20.0</td>\n",
              "      <td>50.0</td>\n",
              "      <td>0.135756</td>\n",
              "      <td>25.355850</td>\n",
              "      <td>0.0</td>\n",
              "      <td>12.234987</td>\n",
              "    </tr>\n",
              "    <tr>\n",
              "      <th>4</th>\n",
              "      <td>4.0</td>\n",
              "      <td>1.0</td>\n",
              "      <td>20.0</td>\n",
              "      <td>50.0</td>\n",
              "      <td>0.101542</td>\n",
              "      <td>22.808822</td>\n",
              "      <td>0.0</td>\n",
              "      <td>11.742872</td>\n",
              "      <td>5</td>\n",
              "      <td>1</td>\n",
              "      <td>20</td>\n",
              "      <td>50</td>\n",
              "      <td>0.135756</td>\n",
              "      <td>25.355850</td>\n",
              "      <td>0</td>\n",
              "      <td>12.234987</td>\n",
              "      <td>6.0</td>\n",
              "      <td>1.0</td>\n",
              "      <td>20.0</td>\n",
              "      <td>50.0</td>\n",
              "      <td>0.169698</td>\n",
              "      <td>27.259866</td>\n",
              "      <td>0.0</td>\n",
              "      <td>12.867706</td>\n",
              "    </tr>\n",
              "    <tr>\n",
              "      <th>5</th>\n",
              "      <td>5.0</td>\n",
              "      <td>1.0</td>\n",
              "      <td>20.0</td>\n",
              "      <td>50.0</td>\n",
              "      <td>0.135756</td>\n",
              "      <td>25.355850</td>\n",
              "      <td>0.0</td>\n",
              "      <td>12.234987</td>\n",
              "      <td>6</td>\n",
              "      <td>1</td>\n",
              "      <td>20</td>\n",
              "      <td>50</td>\n",
              "      <td>0.169698</td>\n",
              "      <td>27.259866</td>\n",
              "      <td>0</td>\n",
              "      <td>12.867706</td>\n",
              "      <td>7.0</td>\n",
              "      <td>1.0</td>\n",
              "      <td>20.0</td>\n",
              "      <td>50.0</td>\n",
              "      <td>0.203708</td>\n",
              "      <td>27.127486</td>\n",
              "      <td>0.0</td>\n",
              "      <td>14.695562</td>\n",
              "    </tr>\n",
              "    <tr>\n",
              "      <th>...</th>\n",
              "      <td>...</td>\n",
              "      <td>...</td>\n",
              "      <td>...</td>\n",
              "      <td>...</td>\n",
              "      <td>...</td>\n",
              "      <td>...</td>\n",
              "      <td>...</td>\n",
              "      <td>...</td>\n",
              "      <td>...</td>\n",
              "      <td>...</td>\n",
              "      <td>...</td>\n",
              "      <td>...</td>\n",
              "      <td>...</td>\n",
              "      <td>...</td>\n",
              "      <td>...</td>\n",
              "      <td>...</td>\n",
              "      <td>...</td>\n",
              "      <td>...</td>\n",
              "      <td>...</td>\n",
              "      <td>...</td>\n",
              "      <td>...</td>\n",
              "      <td>...</td>\n",
              "      <td>...</td>\n",
              "      <td>...</td>\n",
              "    </tr>\n",
              "    <tr>\n",
              "      <th>6035994</th>\n",
              "      <td>6035994.0</td>\n",
              "      <td>125749.0</td>\n",
              "      <td>50.0</td>\n",
              "      <td>10.0</td>\n",
              "      <td>2.437786</td>\n",
              "      <td>1.353205</td>\n",
              "      <td>1.0</td>\n",
              "      <td>4.009636</td>\n",
              "      <td>6035995</td>\n",
              "      <td>125749</td>\n",
              "      <td>50</td>\n",
              "      <td>10</td>\n",
              "      <td>2.471192</td>\n",
              "      <td>1.420711</td>\n",
              "      <td>1</td>\n",
              "      <td>3.939334</td>\n",
              "      <td>6035996.0</td>\n",
              "      <td>125749.0</td>\n",
              "      <td>50.0</td>\n",
              "      <td>10.0</td>\n",
              "      <td>2.504603</td>\n",
              "      <td>1.489714</td>\n",
              "      <td>1.0</td>\n",
              "      <td>3.869032</td>\n",
              "    </tr>\n",
              "    <tr>\n",
              "      <th>6035995</th>\n",
              "      <td>6035995.0</td>\n",
              "      <td>125749.0</td>\n",
              "      <td>50.0</td>\n",
              "      <td>10.0</td>\n",
              "      <td>2.471192</td>\n",
              "      <td>1.420711</td>\n",
              "      <td>1.0</td>\n",
              "      <td>3.939334</td>\n",
              "      <td>6035996</td>\n",
              "      <td>125749</td>\n",
              "      <td>50</td>\n",
              "      <td>10</td>\n",
              "      <td>2.504603</td>\n",
              "      <td>1.489714</td>\n",
              "      <td>1</td>\n",
              "      <td>3.869032</td>\n",
              "      <td>6035997.0</td>\n",
              "      <td>125749.0</td>\n",
              "      <td>50.0</td>\n",
              "      <td>10.0</td>\n",
              "      <td>2.537961</td>\n",
              "      <td>1.488497</td>\n",
              "      <td>1.0</td>\n",
              "      <td>3.869032</td>\n",
              "    </tr>\n",
              "    <tr>\n",
              "      <th>6035996</th>\n",
              "      <td>6035996.0</td>\n",
              "      <td>125749.0</td>\n",
              "      <td>50.0</td>\n",
              "      <td>10.0</td>\n",
              "      <td>2.504603</td>\n",
              "      <td>1.489714</td>\n",
              "      <td>1.0</td>\n",
              "      <td>3.869032</td>\n",
              "      <td>6035997</td>\n",
              "      <td>125749</td>\n",
              "      <td>50</td>\n",
              "      <td>10</td>\n",
              "      <td>2.537961</td>\n",
              "      <td>1.488497</td>\n",
              "      <td>1</td>\n",
              "      <td>3.869032</td>\n",
              "      <td>6035998.0</td>\n",
              "      <td>125749.0</td>\n",
              "      <td>50.0</td>\n",
              "      <td>10.0</td>\n",
              "      <td>2.571408</td>\n",
              "      <td>1.558978</td>\n",
              "      <td>1.0</td>\n",
              "      <td>3.798729</td>\n",
              "    </tr>\n",
              "    <tr>\n",
              "      <th>6035997</th>\n",
              "      <td>6035997.0</td>\n",
              "      <td>125749.0</td>\n",
              "      <td>50.0</td>\n",
              "      <td>10.0</td>\n",
              "      <td>2.537961</td>\n",
              "      <td>1.488497</td>\n",
              "      <td>1.0</td>\n",
              "      <td>3.869032</td>\n",
              "      <td>6035998</td>\n",
              "      <td>125749</td>\n",
              "      <td>50</td>\n",
              "      <td>10</td>\n",
              "      <td>2.571408</td>\n",
              "      <td>1.558978</td>\n",
              "      <td>1</td>\n",
              "      <td>3.798729</td>\n",
              "      <td>6035999.0</td>\n",
              "      <td>125749.0</td>\n",
              "      <td>50.0</td>\n",
              "      <td>10.0</td>\n",
              "      <td>2.604744</td>\n",
              "      <td>1.272663</td>\n",
              "      <td>1.0</td>\n",
              "      <td>4.079938</td>\n",
              "    </tr>\n",
              "    <tr>\n",
              "      <th>6035998</th>\n",
              "      <td>6035998.0</td>\n",
              "      <td>125749.0</td>\n",
              "      <td>50.0</td>\n",
              "      <td>10.0</td>\n",
              "      <td>2.571408</td>\n",
              "      <td>1.558978</td>\n",
              "      <td>1.0</td>\n",
              "      <td>3.798729</td>\n",
              "      <td>6035999</td>\n",
              "      <td>125749</td>\n",
              "      <td>50</td>\n",
              "      <td>10</td>\n",
              "      <td>2.604744</td>\n",
              "      <td>1.272663</td>\n",
              "      <td>1</td>\n",
              "      <td>4.079938</td>\n",
              "      <td>6036000.0</td>\n",
              "      <td>125749.0</td>\n",
              "      <td>50.0</td>\n",
              "      <td>10.0</td>\n",
              "      <td>2.638017</td>\n",
              "      <td>1.482739</td>\n",
              "      <td>1.0</td>\n",
              "      <td>3.869032</td>\n",
              "    </tr>\n",
              "  </tbody>\n",
              "</table>\n",
              "<p>6035998 rows × 24 columns</p>\n",
              "</div>"
            ],
            "text/plain": [
              "         var1(t-1)  var2(t-1)  var3(t-1)  ...  var6(t+1)  var7(t+1)  var8(t+1)\n",
              "1              1.0        1.0       20.0  ...  22.509278        0.0   7.876254\n",
              "2              2.0        1.0       20.0  ...  22.808822        0.0  11.742872\n",
              "3              3.0        1.0       20.0  ...  25.355850        0.0  12.234987\n",
              "4              4.0        1.0       20.0  ...  27.259866        0.0  12.867706\n",
              "5              5.0        1.0       20.0  ...  27.127486        0.0  14.695562\n",
              "...            ...        ...        ...  ...        ...        ...        ...\n",
              "6035994  6035994.0   125749.0       50.0  ...   1.489714        1.0   3.869032\n",
              "6035995  6035995.0   125749.0       50.0  ...   1.488497        1.0   3.869032\n",
              "6035996  6035996.0   125749.0       50.0  ...   1.558978        1.0   3.798729\n",
              "6035997  6035997.0   125749.0       50.0  ...   1.272663        1.0   4.079938\n",
              "6035998  6035998.0   125749.0       50.0  ...   1.482739        1.0   3.869032\n",
              "\n",
              "[6035998 rows x 24 columns]"
            ]
          },
          "metadata": {},
          "execution_count": 12
        }
      ]
    },
    {
      "cell_type": "code",
      "metadata": {
        "colab": {
          "base_uri": "https://localhost:8080/"
        },
        "id": "m46T20-1ZkwD",
        "outputId": "29d2f15a-370e-4a63-c75d-225f9749aa44"
      },
      "source": [
        "#Split train and Test data\n",
        "train_size = int(len(train) * 0.6)\n",
        "values = reframed2.values\n",
        "train = values[:train_size, :]\n",
        "test = values[train_size:, :]\n",
        "\n",
        "# split into input and outputs\n",
        "Xtrain, Ytrain = train[:, :-1], train[:, -1]\n",
        "Xtest, Ytest = test[:, :-1], test[:, -1]\n",
        "\n",
        "### RNN needs 3D input\n",
        "# reshape input to be 3D [samples, timesteps, features]\n",
        "Xtrain = Xtrain.reshape((Xtrain.shape[0], 1, Xtrain.shape[1]))\n",
        "Xtest = Xtest.reshape((Xtest.shape[0], 1, Xtest.shape[1]))\n",
        "print(Xtrain.shape, Ytrain.shape, Xtest.shape, Ytest.shape)"
      ],
      "execution_count": null,
      "outputs": [
        {
          "output_type": "stream",
          "name": "stdout",
          "text": [
            "(3621600, 1, 23) (3621600,) (2414398, 1, 23) (2414398,)\n"
          ]
        }
      ]
    },
    {
      "cell_type": "code",
      "metadata": {
        "colab": {
          "base_uri": "https://localhost:8080/"
        },
        "id": "nPI8w_2AZkzQ",
        "outputId": "0dabbc12-43fc-4c27-c28c-9b135ce34f1b"
      },
      "source": [
        "test"
      ],
      "execution_count": null,
      "outputs": [
        {
          "output_type": "execute_result",
          "data": {
            "text/plain": [
              "array([[3.62160100e+06, 7.54890000e+04, 5.00000000e+00, ...,\n",
              "        2.92576609e+01, 0.00000000e+00, 8.50897323e+00],\n",
              "       [3.62160200e+06, 7.54890000e+04, 5.00000000e+00, ...,\n",
              "        3.02704872e+01, 0.00000000e+00, 9.21199469e+00],\n",
              "       [3.62160300e+06, 7.54890000e+04, 5.00000000e+00, ...,\n",
              "        3.23937462e+01, 0.00000000e+00, 9.77441185e+00],\n",
              "       ...,\n",
              "       [6.03599600e+06, 1.25749000e+05, 5.00000000e+01, ...,\n",
              "        1.55897786e+00, 1.00000000e+00, 3.79872949e+00],\n",
              "       [6.03599700e+06, 1.25749000e+05, 5.00000000e+01, ...,\n",
              "        1.27266322e+00, 1.00000000e+00, 4.07993807e+00],\n",
              "       [6.03599800e+06, 1.25749000e+05, 5.00000000e+01, ...,\n",
              "        1.48273915e+00, 1.00000000e+00, 3.86903163e+00]])"
            ]
          },
          "metadata": {},
          "execution_count": 15
        }
      ]
    },
    {
      "cell_type": "code",
      "metadata": {
        "id": "lkJGs_q-Zk2O"
      },
      "source": [
        ""
      ],
      "execution_count": null,
      "outputs": []
    },
    {
      "cell_type": "code",
      "metadata": {
        "id": "sA-px-sZZk5X"
      },
      "source": [
        ""
      ],
      "execution_count": null,
      "outputs": []
    },
    {
      "cell_type": "code",
      "metadata": {
        "id": "qLCibUyDZk9S"
      },
      "source": [
        ""
      ],
      "execution_count": null,
      "outputs": []
    },
    {
      "cell_type": "code",
      "metadata": {
        "id": "dxbizucMZk_4"
      },
      "source": [
        ""
      ],
      "execution_count": null,
      "outputs": []
    },
    {
      "cell_type": "code",
      "metadata": {
        "id": "xmR-bTiUZlDC"
      },
      "source": [
        ""
      ],
      "execution_count": null,
      "outputs": []
    },
    {
      "cell_type": "code",
      "metadata": {
        "id": "DVTnF392ZlGN"
      },
      "source": [
        ""
      ],
      "execution_count": null,
      "outputs": []
    },
    {
      "cell_type": "code",
      "metadata": {
        "colab": {
          "base_uri": "https://localhost:8080/",
          "height": 295
        },
        "id": "ZL1jY6Ena7b2",
        "outputId": "c9799d20-f254-465a-9885-4f9a183b62c9"
      },
      "source": [
        "train[['R','C','pressure']].plot()"
      ],
      "execution_count": null,
      "outputs": [
        {
          "output_type": "execute_result",
          "data": {
            "text/plain": [
              "<matplotlib.axes._subplots.AxesSubplot at 0x7fe717b43d50>"
            ]
          },
          "metadata": {},
          "execution_count": 20
        },
        {
          "output_type": "display_data",
          "data": {
            "image/png": "[encoded data removed]",
            "text/plain": [
              "<Figure size 432x288 with 1 Axes>"
            ]
          },
          "metadata": {}
        }
      ]
    },
    {
      "cell_type": "code",
      "metadata": {
        "colab": {
          "base_uri": "https://localhost:8080/",
          "height": 248
        },
        "id": "EOgEtKBCdeuP",
        "outputId": "e49c81a0-d029-4eb6-ca83-56816f93ccc1"
      },
      "source": [
        "ax = plt.axes(projection='3d')\n",
        "\n",
        "# Data for a three-dimensional line\n",
        "z = train['pressure']\n",
        "x = train['R']\n",
        "y = train['C']\n",
        "ax.plot3D(x,y,z, 'gray')\n",
        "\n"
      ],
      "execution_count": null,
      "outputs": [
        {
          "output_type": "display_data",
          "data": {
            "image/png": "[encoded data removed]",
            "text/plain": [
              "<Figure size 432x288 with 1 Axes>"
            ]
          },
          "metadata": {}
        }
      ]
    },
    {
      "cell_type": "code",
      "metadata": {
        "colab": {
          "base_uri": "https://localhost:8080/",
          "height": 201
        },
        "id": "ajQutI4wPGk1",
        "outputId": "d3782a74-f350-476f-f364-f38689bc8a34"
      },
      "source": [
        "# Data for three-dimensional scattered points\n",
        "\n",
        "ax.scatter3D(x,y,z, cmap='Greens');"
      ],
      "execution_count": null,
      "outputs": [
        {
          "output_type": "error",
          "ename": "NameError",
          "evalue": "ignored",
          "traceback": [
            "\u001b[0;31m---------------------------------------------------------------------------\u001b[0m",
            "\u001b[0;31mNameError\u001b[0m                                 Traceback (most recent call last)",
            "\u001b[0;32m<ipython-input-1-01dd9b411e92>\u001b[0m in \u001b[0;36m<module>\u001b[0;34m()\u001b[0m\n\u001b[1;32m      1\u001b[0m \u001b[0;31m# Data for three-dimensional scattered points\u001b[0m\u001b[0;34m\u001b[0m\u001b[0;34m\u001b[0m\u001b[0;34m\u001b[0m\u001b[0m\n\u001b[1;32m      2\u001b[0m \u001b[0;34m\u001b[0m\u001b[0m\n\u001b[0;32m----> 3\u001b[0;31m \u001b[0max\u001b[0m\u001b[0;34m.\u001b[0m\u001b[0mscatter3D\u001b[0m\u001b[0;34m(\u001b[0m\u001b[0mx\u001b[0m\u001b[0;34m,\u001b[0m\u001b[0my\u001b[0m\u001b[0;34m,\u001b[0m\u001b[0mz\u001b[0m\u001b[0;34m,\u001b[0m \u001b[0mcmap\u001b[0m\u001b[0;34m=\u001b[0m\u001b[0;34m'Greens'\u001b[0m\u001b[0;34m)\u001b[0m\u001b[0;34m;\u001b[0m\u001b[0;34m\u001b[0m\u001b[0;34m\u001b[0m\u001b[0m\n\u001b[0m",
            "\u001b[0;31mNameError\u001b[0m: name 'ax' is not defined"
          ]
        }
      ]
    },
    {
      "cell_type": "code",
      "metadata": {
        "id": "kycsrbWnjs5e"
      },
      "source": [
        ""
      ],
      "execution_count": null,
      "outputs": []
    }
  ]
}